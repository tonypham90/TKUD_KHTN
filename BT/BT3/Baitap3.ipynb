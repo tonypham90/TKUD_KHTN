{
 "cells": [
  {
   "attachments": {},
   "cell_type": "markdown",
   "metadata": {},
   "source": [
    "# Bài tập 3 - Ôn tập xác suất và biến ngẫu nhiên\n",
    "\n",
    "*(Thống kê máy tính và ứng dụng - ĐTTX Kì 2 2022-2023)*"
   ]
  },
  {
   "attachments": {},
   "cell_type": "markdown",
   "metadata": {},
   "source": [
    "MSSV: <21880005>\n",
    "\n",
    "Họ và tên: <Phạm Tuân Anh>"
   ]
  },
  {
   "cell_type": "code",
   "execution_count": 1,
   "metadata": {},
   "outputs": [],
   "source": [
    "import random as rd\n",
    "import numpy as np\n",
    "import pandas as pd\n",
    "import fractions"
   ]
  },
  {
   "attachments": {},
   "cell_type": "markdown",
   "metadata": {},
   "source": [
    "### Câu 1 (1.5 điểm)\n",
    "\n",
    "Tung một đồng xu đồng chất 3 lần.\n",
    "1. Xác định không gian mẫu.\n",
    "1. Xác định biến cố “mặt ra lần một và lần ba như nhau”.\n",
    "1. Tính xác suất của biến cố ở Câu (2).\n",
    "1. Dùng phương pháp mô phỏng để ước lượng xác suất ở Câu (3)."
   ]
  },
  {
   "attachments": {},
   "cell_type": "markdown",
   "metadata": {},
   "source": [
    "<li> Dong xu dong chat 3 lan khong gian mau la 3 <br>\n",
    "<li>Bien co say ra la 2 tung duong voi sap,ngua <br>\n",
    "<li>xac suat bien co doc lap moi lan say ra la 1/2 va 3 lan la 1/2*1/2*1/2"
   ]
  },
  {
   "cell_type": "code",
   "execution_count": 3,
   "metadata": {},
   "outputs": [
    {
     "ename": "TypeError",
     "evalue": "'module' object is not callable",
     "output_type": "error",
     "traceback": [
      "\u001b[0;31m---------------------------------------------------------------------------\u001b[0m",
      "\u001b[0;31mTypeError\u001b[0m                                 Traceback (most recent call last)",
      "Cell \u001b[0;32mIn[3], line 1\u001b[0m\n\u001b[0;32m----> 1\u001b[0m \u001b[39mprint\u001b[39m(fractions(\u001b[39m\"\u001b[39;49m\u001b[39m1/2\u001b[39;49m\u001b[39m\"\u001b[39;49m))\n",
      "\u001b[0;31mTypeError\u001b[0m: 'module' object is not callable"
     ]
    }
   ],
   "source": [
    "def prob_tungxu(solan):\n",
    "    self.__init__(solan)"
   ]
  },
  {
   "attachments": {},
   "cell_type": "markdown",
   "metadata": {},
   "source": [
    "Goi X la khong gian mau,"
   ]
  },
  {
   "attachments": {},
   "cell_type": "markdown",
   "metadata": {},
   "source": [
    "### Câu 2 (1.5 điểm)\n",
    "\n",
    "Rút ngẫu nhiên 1 lá bài từ bộ bài Tây 52 lái. Tính xác suất:\n",
    "1. Rút được lá cơ.\n",
    "1. Rút được lá hình (J, Q, K).\n",
    "1. Rút được lá cơ hoặc lá hình.\n",
    "1. Dùng phương pháp mô phỏng để ước lượng xác suất ở Câu (3)."
   ]
  },
  {
   "cell_type": "code",
   "execution_count": null,
   "metadata": {},
   "outputs": [],
   "source": []
  },
  {
   "attachments": {},
   "cell_type": "markdown",
   "metadata": {},
   "source": [
    "### Câu 3 (2 điểm)\n",
    "\n",
    "Có 3 hộp đựng bi. Hộp I có 5 bi xanh và 3 bi đỏ. Hộp II có 6 bi xanh và 4 bi đỏ. Hộp\n",
    "III có 6 bi xanh và 6 bi đỏ. Chọn ngẫu nhiên một hộp rồi từ hộp đó lấy ngẫu nhiên một viên bi.\n",
    "1. Tính xác suất để lấy được bi xanh.\n",
    "1. Tính xác suất để lấy được bi xanh của hộp I.\n",
    "1. Biết rằng bi lấy được là bi xanh, khả năng bi đó thuộc về hộp nào là lớn nhất?\n",
    "1. Dùng phương pháp mô phỏng để ước lượng xác suất ở Câu (1)."
   ]
  },
  {
   "cell_type": "code",
   "execution_count": null,
   "metadata": {},
   "outputs": [],
   "source": []
  },
  {
   "attachments": {},
   "cell_type": "markdown",
   "metadata": {},
   "source": [
    "### Câu 4 (1.5 điểm)\n",
    "\n",
    "Tung một đồng xu đồng chất 4 lần. Nếu cả 4 lần đều ngửa ta sẽ được 8 đồng, nếu có 3 lần ngửa ta sẽ được 3 đồng, nếu không có lần nào ngửa ta sẽ mất 6 đồng, các trường hợp còn lại ta sẽ mất 2 đồng. \n",
    "1. Tính trung bình số tiền ta được/mất. Ta có nên chơi trò chơi này không?\n",
    "2. Dùng phương pháp mô phỏng để ước lượng trung bình ở Câu (1)."
   ]
  },
  {
   "cell_type": "code",
   "execution_count": null,
   "metadata": {},
   "outputs": [],
   "source": []
  },
  {
   "attachments": {},
   "cell_type": "markdown",
   "metadata": {},
   "source": [
    "### Câu 5 (1.5 điểm)\n",
    "\n",
    "Một công ty vận tải thấy rằng quãng đường một chiếc xe tải đi được hàng năm tuân theo phân phối chuẩn với kỳ vọng 50 ngàn dặm, và độ lệch chuẩn 10 ngàn dặm.\n",
    "1. Tính xác suất xe tải đi được quãng đường từ 40 ngàn dặm đến 65 ngàn dặm trong năm.\n",
    "1. Tính xác suất xe tải đi được quãng đường trên 60 ngàn dặm trong năm.\n",
    "1. 90% xe tải đi được nhiều nhất $x$ dặm trong năm. Tính giá trị của $x$.\n",
    "1. Dùng phương pháp mô phỏng để ước lượng xác suất ở Câu (1)."
   ]
  },
  {
   "cell_type": "code",
   "execution_count": null,
   "metadata": {},
   "outputs": [],
   "source": []
  },
  {
   "attachments": {},
   "cell_type": "markdown",
   "metadata": {},
   "source": [
    "### Câu 6 (2 điểm)\n",
    "\n",
    "Tuổi thọ của một loài côn trùng nào đó là một biến ngẫu nhiên $X$ (đơn vị là tháng) với hàm mật độ xác suất (pdf)\n",
    "\n",
    "$$\n",
    "f(x) =  \n",
    "\\begin{cases}\n",
    "    kx(4-x),& \\text{nếu } 0 \\leq x \\leq 4,\\\\\n",
    "    0,              & \\text{khác}.\n",
    "\\end{cases}\n",
    "$$\n",
    "\n",
    "1. Tìm $k$.\n",
    "1. Tính xác suất côn trùng chết trước khi nó được 1 tháng tuổi.\n",
    "1. Tính tuổi thọ trung bình của côn trùng.\n",
    "1. <mark>Cộng điểm</mark> Giả sử cứ cách mỗi tháng (kể từ lúc sinh ra) côn trùng này sẽ đẻ 1 lần. Tính số lần đẻ trung bình của côn trùng."
   ]
  },
  {
   "cell_type": "code",
   "execution_count": null,
   "metadata": {},
   "outputs": [],
   "source": []
  }
 ],
 "metadata": {
  "kernelspec": {
   "display_name": "Python 3 (ipykernel)",
   "language": "python",
   "name": "python3"
  },
  "language_info": {
   "codemirror_mode": {
    "name": "ipython",
    "version": 3
   },
   "file_extension": ".py",
   "mimetype": "text/x-python",
   "name": "python",
   "nbconvert_exporter": "python",
   "pygments_lexer": "ipython3",
   "version": "3.11.2"
  },
  "vscode": {
   "interpreter": {
    "hash": "5179d32cf6ec497baf3f8a3ef987cc77c5d2dc691fdde20a56316522f61a7323"
   }
  }
 },
 "nbformat": 4,
 "nbformat_minor": 4
}
