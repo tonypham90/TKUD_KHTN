{
 "cells": [
  {
   "attachments": {},
   "cell_type": "markdown",
   "metadata": {
    "dotnet_interactive": {
     "language": "csharp"
    },
    "polyglot_notebook": {
     "kernelName": "csharp"
    }
   },
   "source": [
    "# Bài tập 1 - Ôn tập Python\n",
    "\n",
    "*(Thống kê máy tính và ứng dụng - ĐTTX Kì 2 2022-2023)*\n",
    "\n",
    "Tài liệu tham khảo: [Bí kíp luyện Python](https://github.com/vqhBook/python)"
   ]
  },
  {
   "attachments": {},
   "cell_type": "markdown",
   "metadata": {
    "dotnet_interactive": {
     "language": "csharp"
    },
    "polyglot_notebook": {
     "kernelName": "csharp"
    }
   },
   "source": [
    "MSSV: **21880005**\n",
    "\n",
    "Họ và tên: **Phạm Tuấn Anh**"
   ]
  },
  {
   "attachments": {},
   "cell_type": "markdown",
   "metadata": {
    "dotnet_interactive": {
     "language": "csharp"
    },
    "polyglot_notebook": {
     "kernelName": "csharp"
    }
   },
   "source": [
    "## Câu 1\n",
    "\n",
    "(Tham khảo: Bài 1-3)"
   ]
  },
  {
   "attachments": {},
   "cell_type": "markdown",
   "metadata": {
    "dotnet_interactive": {
     "language": "csharp"
    },
    "polyglot_notebook": {
     "kernelName": "csharp"
    }
   },
   "source": [
    "**Bài tập 2.5** (trang 24). *(0.5 điểm)*"
   ]
  },
  {
   "cell_type": "markdown",
   "metadata": {
    "dotnet_interactive": {
     "language": "csharp"
    },
    "polyglot_notebook": {
     "kernelName": "csharp"
    }
   },
   "source": [
    "<b>Thu ket qua </b>"
   ]
  },
  {
   "cell_type": "code",
   "execution_count": 18,
   "metadata": {
    "dotnet_interactive": {
     "language": "csharp"
    },
    "polyglot_notebook": {
     "kernelName": "csharp"
    }
   },
   "outputs": [],
   "source": [
    "result = 0\n",
    "for i in range(60):\n",
    "    if i == 0:\n",
    "        result+=2\n",
    "    else:\n",
    "        result*=2\n"
   ]
  },
  {
   "attachments": {},
   "cell_type": "markdown",
   "metadata": {
    "dotnet_interactive": {
     "language": "csharp"
    },
    "polyglot_notebook": {
     "kernelName": "csharp"
    }
   },
   "source": [
    "```python\n",
    "Kết quả 2^60 là:\n",
    "```"
   ]
  },
  {
   "cell_type": "code",
   "execution_count": 19,
   "metadata": {
    "dotnet_interactive": {
     "language": "csharp"
    },
    "polyglot_notebook": {
     "kernelName": "csharp"
    }
   },
   "outputs": [
    {
     "data": {
      "text/plain": [
       "1152921504606846976"
      ]
     },
     "execution_count": 19,
     "metadata": {},
     "output_type": "execute_result"
    }
   ],
   "source": [
    "result"
   ]
  },
  {
   "attachments": {},
   "cell_type": "markdown",
   "metadata": {
    "dotnet_interactive": {
     "language": "csharp"
    },
    "polyglot_notebook": {
     "kernelName": "csharp"
    }
   },
   "source": [
    "**Bài tập 3.9** (trang 43). *(1 điểm)*"
   ]
  },
  {
   "cell_type": "code",
   "execution_count": 20,
   "metadata": {
    "dotnet_interactive": {
     "language": "csharp"
    },
    "polyglot_notebook": {
     "kernelName": "csharp"
    }
   },
   "outputs": [],
   "source": [
    "from fractions import Fraction as F"
   ]
  },
  {
   "attachments": {},
   "cell_type": "markdown",
   "metadata": {
    "dotnet_interactive": {
     "language": "csharp"
    },
    "polyglot_notebook": {
     "kernelName": "csharp"
    }
   },
   "source": [
    "##### Câu a:"
   ]
  },
  {
   "cell_type": "code",
   "execution_count": 21,
   "metadata": {
    "dotnet_interactive": {
     "language": "csharp"
    },
    "polyglot_notebook": {
     "kernelName": "csharp"
    }
   },
   "outputs": [],
   "source": [
    "nhap=(10+3/7)/(5+3/14)"
   ]
  },
  {
   "cell_type": "code",
   "execution_count": 22,
   "metadata": {
    "dotnet_interactive": {
     "language": "csharp"
    },
    "polyglot_notebook": {
     "kernelName": "csharp"
    }
   },
   "outputs": [
    {
     "data": {
      "text/plain": [
       "2.0"
      ]
     },
     "execution_count": 22,
     "metadata": {},
     "output_type": "execute_result"
    }
   ],
   "source": [
    "nhap"
   ]
  },
  {
   "cell_type": "code",
   "execution_count": 23,
   "metadata": {
    "dotnet_interactive": {
     "language": "csharp"
    },
    "polyglot_notebook": {
     "kernelName": "csharp"
    }
   },
   "outputs": [],
   "source": [
    "kq=F((10+F(3/7)),(5+F(3/14)))"
   ]
  },
  {
   "attachments": {},
   "cell_type": "markdown",
   "metadata": {
    "dotnet_interactive": {
     "language": "csharp"
    },
    "polyglot_notebook": {
     "kernelName": "csharp"
    }
   },
   "source": [
    "Kết quả:"
   ]
  },
  {
   "cell_type": "code",
   "execution_count": 24,
   "metadata": {
    "dotnet_interactive": {
     "language": "csharp"
    },
    "polyglot_notebook": {
     "kernelName": "csharp"
    }
   },
   "outputs": [
    {
     "name": "stdout",
     "output_type": "stream",
     "text": [
      "2\n"
     ]
    }
   ],
   "source": [
    "print(kq)"
   ]
  },
  {
   "attachments": {},
   "cell_type": "markdown",
   "metadata": {
    "dotnet_interactive": {
     "language": "csharp"
    },
    "polyglot_notebook": {
     "kernelName": "csharp"
    }
   },
   "source": [
    "#### Câu b:"
   ]
  },
  {
   "cell_type": "code",
   "execution_count": 25,
   "metadata": {
    "dotnet_interactive": {
     "language": "csharp"
    },
    "polyglot_notebook": {
     "kernelName": "csharp"
    }
   },
   "outputs": [],
   "source": [
    "resultb=F(5**4*20**4,25**5*4**5)"
   ]
  },
  {
   "attachments": {},
   "cell_type": "markdown",
   "metadata": {
    "dotnet_interactive": {
     "language": "csharp"
    },
    "polyglot_notebook": {
     "kernelName": "csharp"
    }
   },
   "source": [
    "Kết quả là:"
   ]
  },
  {
   "cell_type": "code",
   "execution_count": 26,
   "metadata": {
    "dotnet_interactive": {
     "language": "csharp"
    },
    "polyglot_notebook": {
     "kernelName": "csharp"
    }
   },
   "outputs": [
    {
     "name": "stdout",
     "output_type": "stream",
     "text": [
      "1/100\n"
     ]
    }
   ],
   "source": [
    "print(resultb)"
   ]
  },
  {
   "attachments": {},
   "cell_type": "markdown",
   "metadata": {
    "dotnet_interactive": {
     "language": "csharp"
    },
    "polyglot_notebook": {
     "kernelName": "csharp"
    }
   },
   "source": [
    "#### Câu c:"
   ]
  },
  {
   "cell_type": "code",
   "execution_count": 27,
   "metadata": {
    "dotnet_interactive": {
     "language": "csharp"
    },
    "polyglot_notebook": {
     "kernelName": "csharp"
    }
   },
   "outputs": [],
   "source": [
    "resultc = (1 + F(\"2/3\")-F(\"1/4\"))*(F(4,5)-F(3,4))**2"
   ]
  },
  {
   "attachments": {},
   "cell_type": "markdown",
   "metadata": {
    "dotnet_interactive": {
     "language": "csharp"
    },
    "polyglot_notebook": {
     "kernelName": "csharp"
    }
   },
   "source": [
    "Kết quả là:"
   ]
  },
  {
   "cell_type": "code",
   "execution_count": 28,
   "metadata": {
    "dotnet_interactive": {
     "language": "csharp"
    },
    "polyglot_notebook": {
     "kernelName": "csharp"
    }
   },
   "outputs": [
    {
     "name": "stdout",
     "output_type": "stream",
     "text": [
      "17/4800\n"
     ]
    }
   ],
   "source": [
    "print(resultc)"
   ]
  },
  {
   "attachments": {},
   "cell_type": "markdown",
   "metadata": {
    "dotnet_interactive": {
     "language": "csharp"
    },
    "polyglot_notebook": {
     "kernelName": "csharp"
    }
   },
   "source": [
    "#### Câu d :"
   ]
  },
  {
   "cell_type": "code",
   "execution_count": 29,
   "metadata": {
    "dotnet_interactive": {
     "language": "csharp"
    },
    "polyglot_notebook": {
     "kernelName": "csharp"
    }
   },
   "outputs": [],
   "source": [
    "resultd = F(\"-0.375\")*((4+F(1,3))*F(\"-2\")**3)"
   ]
  },
  {
   "attachments": {},
   "cell_type": "markdown",
   "metadata": {
    "dotnet_interactive": {
     "language": "csharp"
    },
    "polyglot_notebook": {
     "kernelName": "csharp"
    }
   },
   "source": [
    "Kết quả là:"
   ]
  },
  {
   "cell_type": "code",
   "execution_count": 30,
   "metadata": {
    "dotnet_interactive": {
     "language": "csharp"
    },
    "polyglot_notebook": {
     "kernelName": "csharp"
    }
   },
   "outputs": [
    {
     "name": "stdout",
     "output_type": "stream",
     "text": [
      "13\n"
     ]
    }
   ],
   "source": [
    "print(resultd)"
   ]
  },
  {
   "attachments": {},
   "cell_type": "markdown",
   "metadata": {
    "dotnet_interactive": {
     "language": "csharp"
    },
    "polyglot_notebook": {
     "kernelName": "csharp"
    }
   },
   "source": [
    "## Câu 2\n",
    "\n",
    "(Tham khảo: Bài 4, 6)"
   ]
  },
  {
   "attachments": {},
   "cell_type": "markdown",
   "metadata": {
    "dotnet_interactive": {
     "language": "csharp"
    },
    "polyglot_notebook": {
     "kernelName": "csharp"
    }
   },
   "source": [
    "**Bài tập 4.4** (trang 57). *(0.5 điểm)*"
   ]
  },
  {
   "cell_type": "code",
   "execution_count": 31,
   "metadata": {
    "dotnet_interactive": {
     "language": "csharp"
    },
    "polyglot_notebook": {
     "kernelName": "csharp"
    }
   },
   "outputs": [
    {
     "name": "stdout",
     "output_type": "stream",
     "text": [
      "Happy birthday to . \n",
      "Happybirtday to \n",
      "Happy birthday, happy birthday, happy birthday to \n"
     ]
    }
   ],
   "source": [
    "name = input(\"Tên: \")\n",
    "print(f\"Happy birthday to {name}. \\nHappybirtday to {name}\\nHappy birthday, happy birthday, happy birthday to {name}\")"
   ]
  },
  {
   "attachments": {},
   "cell_type": "markdown",
   "metadata": {
    "dotnet_interactive": {
     "language": "csharp"
    },
    "polyglot_notebook": {
     "kernelName": "csharp"
    }
   },
   "source": [
    "**Bài tập 6.4** (trang 88). *(1 điểm)*"
   ]
  },
  {
   "cell_type": "code",
   "execution_count": 32,
   "metadata": {
    "dotnet_interactive": {
     "language": "csharp"
    },
    "polyglot_notebook": {
     "kernelName": "csharp"
    }
   },
   "outputs": [
    {
     "ename": "ValueError",
     "evalue": "could not convert string to float: ''",
     "output_type": "error",
     "traceback": [
      "\u001b[0;31m---------------------------------------------------------------------------\u001b[0m",
      "\u001b[0;31mValueError\u001b[0m                                Traceback (most recent call last)",
      "Cell \u001b[0;32mIn[32], line 1\u001b[0m\n\u001b[0;32m----> 1\u001b[0m grade \u001b[39m=\u001b[39m \u001b[39mfloat\u001b[39;49m(\u001b[39minput\u001b[39;49m(\u001b[39m'\u001b[39;49m\u001b[39mNhập điểm thí sinh:\u001b[39;49m\u001b[39m'\u001b[39;49m))\n\u001b[1;32m      2\u001b[0m \u001b[39mdef\u001b[39;00m \u001b[39mXeploai\u001b[39m(hocluc:\u001b[39mstr\u001b[39m,dat:\u001b[39mbool\u001b[39m):\n\u001b[1;32m      3\u001b[0m     XL\u001b[39m=\u001b[39m\u001b[39m'\u001b[39m\u001b[39m'\u001b[39m\n",
      "\u001b[0;31mValueError\u001b[0m: could not convert string to float: ''"
     ]
    }
   ],
   "source": [
    "grade = float(input('Nhập điểm thí sinh:'))\n",
    "def Xeploai(hocluc:str,dat:bool):\n",
    "    XL=''\n",
    "    if dat==True:\n",
    "        XL='Đạt'\n",
    "    else:\n",
    "        XL='Không đạt'\n",
    "    return print(f'Học lực: {hocluc} - {XL}')\n",
    "print(f'Điểm nhập:{grade}')\n",
    "if grade>10.0:\n",
    "    print(\"Kiểm tra lại điểm nhập\")\n",
    "elif grade >=9:\n",
    "   Xeploai('Xuất sắc',True)\n",
    "elif grade >=8:\n",
    "    Xeploai('Giỏi',True)\n",
    "elif grade >=7:\n",
    "    Xeploai('Khá', True)\n",
    "elif grade >=6:\n",
    "    Xeploai('Trung Bình Khá', True)\n",
    "elif grade >=5:\n",
    "    Xeploai('Trung Bình',True)\n",
    "elif grade >=4:\n",
    "    Xeploai('Yếu',False)\n",
    "else:\n",
    "    Xeploai('Kém',False)"
   ]
  },
  {
   "attachments": {},
   "cell_type": "markdown",
   "metadata": {
    "dotnet_interactive": {
     "language": "csharp"
    },
    "polyglot_notebook": {
     "kernelName": "csharp"
    }
   },
   "source": [
    "## Câu 3\n",
    "\n",
    "(Tham khảo: Bài 7)"
   ]
  },
  {
   "attachments": {},
   "cell_type": "markdown",
   "metadata": {
    "dotnet_interactive": {
     "language": "csharp"
    },
    "polyglot_notebook": {
     "kernelName": "csharp"
    }
   },
   "source": [
    "**Bài tập 7.3** (trang 107). *(1 điểm)*"
   ]
  },
  {
   "cell_type": "code",
   "execution_count": null,
   "metadata": {
    "dotnet_interactive": {
     "language": "csharp"
    },
    "polyglot_notebook": {
     "kernelName": "csharp"
    }
   },
   "outputs": [
    {
     "name": "stdout",
     "output_type": "stream",
     "text": [
      "3\n"
     ]
    }
   ],
   "source": [
    "string=str(input('Nhập chuỗi số'))\n",
    "liststring=list(string)\n",
    "result=0\n",
    "for i in range(len(liststring)):\n",
    "    result = result + int(liststring[i])\n",
    "print(result)"
   ]
  },
  {
   "attachments": {},
   "cell_type": "markdown",
   "metadata": {
    "dotnet_interactive": {
     "language": "csharp"
    },
    "polyglot_notebook": {
     "kernelName": "csharp"
    }
   },
   "source": [
    "**Bài tập 7.6** (trang 107). *(1.5 điểm)*"
   ]
  },
  {
   "cell_type": "code",
   "execution_count": null,
   "metadata": {
    "dotnet_interactive": {
     "language": "csharp"
    },
    "polyglot_notebook": {
     "kernelName": "csharp"
    }
   },
   "outputs": [],
   "source": [
    "import math"
   ]
  },
  {
   "cell_type": "code",
   "execution_count": null,
   "metadata": {
    "dotnet_interactive": {
     "language": "csharp"
    },
    "polyglot_notebook": {
     "kernelName": "csharp"
    }
   },
   "outputs": [
    {
     "name": "stdout",
     "output_type": "stream",
     "text": [
      "     \n",
      "    *\n",
      "   ***\n",
      "  *****\n",
      " *******\n",
      "*********\n",
      " *******\n",
      "  *****\n",
      "   ***\n",
      "    *\n",
      "**********\n",
      "****  ****\n",
      "***    ***\n",
      "**      **\n",
      "*        *\n",
      "*        *\n",
      "**      **\n",
      "***    ***\n",
      "****  ****\n",
      "**********\n"
     ]
    }
   ],
   "source": [
    "shape = int(input('Hình bạn muốn vẽ (thứ tự từ 1-4 tương tự thứ tự trong đề):'))\n",
    "size = int(input('Số dòng (số dòng là số lẽ lớn hơn 2)'))\n",
    "def drawtria(size):\n",
    "    # triashape = np.zeros((size,size), dtype=int)\n",
    "    # for i in range(size):\n",
    "    #     for j in range(size):\n",
    "    #         if j>=size-i-1:\n",
    "    #             triashape[i][j]=1\n",
    "    # print(triashape)\n",
    "    for i in range(size):\n",
    "        for j in range(size):\n",
    "            if j >= size-i-1:\n",
    "                print(\"*\",end=\"\")\n",
    "            else:\n",
    "                print(\" \",end=\"\")\n",
    "        print()\n",
    "    # return triashape\n",
    "def drawpara(size):\n",
    "    for i in range(size):\n",
    "        for j in range(size):\n",
    "            if j >= size-i-1:\n",
    "                for z in range(size):\n",
    "                    print(\"*\",end=\"\")\n",
    "                break\n",
    "            else:\n",
    "                print(\" \",end=\"\")\n",
    "        print()\n",
    "def drawf(size):\n",
    "    symbol = \"*\"\n",
    "    trianglerow = math.ceil(size/2)\n",
    "\n",
    "    for rownumber in range(trianglerow+1):\n",
    "        print(\" \" * (trianglerow - rownumber) + symbol * (2 * rownumber - 1))\n",
    "    for rownumber in range(trianglerow, 0 , -1):\n",
    "        if rownumber == trianglerow:\n",
    "            continue\n",
    "        print(\" \" * (trianglerow - rownumber) + symbol * (2 * rownumber - 1))\n",
    "        \n",
    "        \n",
    "def drawrev(size):\n",
    "    symbol = \"*\"\n",
    "    half = math.ceil(size/2)\n",
    "    \n",
    "    # nữa hình trên\n",
    "    for char in range(half, 0, -1):\n",
    "        BlankSpaceLength = (half * 2)  - (char * 2)\n",
    "        Space = \" \" * BlankSpaceLength\n",
    "        print(symbol * char + Space + symbol * char )\n",
    "    \n",
    "    # nữa hình dưới\n",
    "    for char in range(1,half  + 1):\n",
    "        BlankSpaceLength = (half * 2)  - (char * 2)\n",
    "        Space = \" \" * BlankSpaceLength\n",
    "        print(symbol * char + Space + symbol * char ) \n",
    "        \n",
    "\n",
    "    \n",
    "# def showShape(Matrixshape:np.array):\n",
    "#     for i in Matrixshape.shape()\n",
    "if shape ==1:\n",
    "   drawtria(size)\n",
    "elif shape ==2:\n",
    "    drawpara(size)\n",
    "elif shape == 3:\n",
    "    drawf(size)\n",
    "elif shape == 4:\n",
    "    drawrev(size)  \n",
    "else:     \n",
    "    drawtria(size)\n",
    "    drawpara(size)\n",
    "    drawf(size)\n",
    "    drawrev(size)"
   ]
  },
  {
   "attachments": {},
   "cell_type": "markdown",
   "metadata": {
    "dotnet_interactive": {
     "language": "csharp"
    },
    "polyglot_notebook": {
     "kernelName": "csharp"
    }
   },
   "source": [
    "## Câu 4\n",
    "\n",
    "(Tham khảo: Bài 8)"
   ]
  },
  {
   "attachments": {},
   "cell_type": "markdown",
   "metadata": {
    "dotnet_interactive": {
     "language": "csharp"
    },
    "polyglot_notebook": {
     "kernelName": "csharp"
    }
   },
   "source": [
    "**Bài tập 9.5** (trang 150). *(2 điểm)*"
   ]
  },
  {
   "attachments": {},
   "cell_type": "markdown",
   "metadata": {},
   "source": [
    "Tap uoc so chung 2 so"
   ]
  },
  {
   "cell_type": "code",
   "execution_count": null,
   "metadata": {},
   "outputs": [],
   "source": [
    "def UocSo(Number):\n",
    "    kq = []\n",
    "    if Number <=1:\n",
    "        return kq\n",
    "    else:\n",
    "        kq = [value for value in range(2,Number,1) if (Number%value==0)]\n",
    "    return kq \n",
    "\n",
    "def Giao(TapA,TapB):\n",
    "    kq = [value for value in TapA if (value in TapA and value in TapB)]\n",
    "    return kq\n",
    "def Printresult(Tapso):\n",
    "    if Tapso ==[]:\n",
    "        print('Khong co gia tri uoc so chung')\n",
    "        return\n",
    "    else:\n",
    "        kq = sorted(Tapso)[-1]\n",
    "        print(f'Uoc chung lon nhat la {kq}')\n",
    "NumberA = int(input('Nhap So thu 1:'))\n",
    "NumberB = int(input('Nhap so thu 2:'))\n",
    "UocsoA = UocSo(NumberA)\n",
    "UocsoB = UocSo(NumberB)\n",
    "TapGiao = Giao(UocsoA,UocsoB)\n",
    "\n"
   ]
  },
  {
   "attachments": {},
   "cell_type": "markdown",
   "metadata": {},
   "source": [
    "Uoc so chung nhieu so"
   ]
  },
  {
   "cell_type": "code",
   "execution_count": null,
   "metadata": {},
   "outputs": [
    {
     "name": "stdout",
     "output_type": "stream",
     "text": [
      "Khong co gia tri uoc so chung\n",
      "Uoc chung lon nhat la 2\n"
     ]
    }
   ],
   "source": [
    "Printresult(TapGiao)\n",
    "def mulinput(*inputvalue):\n",
    "    kq = []\n",
    "    for Number in inputvalue:\n",
    "        NhomUocso = UocSo(Number)\n",
    "        if kq == []:\n",
    "            kq=NhomUocso\n",
    "        else:\n",
    "            kq = Giao(kq, NhomUocso)\n",
    "    Printresult(kq)\n",
    "\n",
    "mulinput(100,30,20,4)"
   ]
  },
  {
   "attachments": {},
   "cell_type": "markdown",
   "metadata": {
    "dotnet_interactive": {
     "language": "csharp"
    },
    "polyglot_notebook": {
     "kernelName": "csharp"
    }
   },
   "source": [
    "### Câu 5\n",
    "\n",
    "(Tham khảo: Bài 10-12)"
   ]
  },
  {
   "attachments": {},
   "cell_type": "markdown",
   "metadata": {
    "dotnet_interactive": {
     "language": "csharp"
    },
    "polyglot_notebook": {
     "kernelName": "csharp"
    }
   },
   "source": [
    "**Bài tập 11.4** (trang 193). *(2.5 điểm)*"
   ]
  },
  {
   "attachments": {},
   "cell_type": "markdown",
   "metadata": {},
   "source": [
    "#### Ham Tang dan"
   ]
  },
  {
   "cell_type": "code",
   "execution_count": 54,
   "metadata": {
    "dotnet_interactive": {
     "language": "csharp"
    },
    "polyglot_notebook": {
     "kernelName": "csharp"
    }
   },
   "outputs": [
    {
     "name": "stdout",
     "output_type": "stream",
     "text": [
      "+ 1x2^0+ 2x2^1+ 3x2^2+ 4x2^3+ 5x2^4 = 129\n"
     ]
    }
   ],
   "source": [
    "def HammuTang(P,x):\n",
    "    s=0\n",
    "    ham=''\n",
    "    for index in range(0,len(P),1):\n",
    "        s+= P[index]* x**index\n",
    "        ham += f'+ {P[index]}x{x}^{index}'\n",
    "    print(ham,end=\" \")\n",
    "    print(f'= {s}')\n",
    "HammuTang([1,2,3,4,5], 2)"
   ]
  },
  {
   "attachments": {},
   "cell_type": "markdown",
   "metadata": {},
   "source": [
    "####Ham mu giam"
   ]
  },
  {
   "cell_type": "code",
   "execution_count": 60,
   "metadata": {},
   "outputs": [
    {
     "name": "stdout",
     "output_type": "stream",
     "text": [
      "+ 5x2^0 + 4x2^1 + 3x2^2 + 2x2^3 + 1x2^4 = 57\n"
     ]
    }
   ],
   "source": [
    "def HammuGiam(P,x):\n",
    "    s=0\n",
    "    ham=''\n",
    "    P = P[::-1]\n",
    "    for index in range(len(P)):\n",
    "        s+= P[index]* x**index\n",
    "        ham += f'+ {P[index]}x{x}^{index} '\n",
    "    print(ham,end=\"\")\n",
    "    print(f'= {s}')\n",
    "HammuGiam([1,2,3,4,5], 2)"
   ]
  },
  {
   "attachments": {},
   "cell_type": "markdown",
   "metadata": {
    "dotnet_interactive": {
     "language": "csharp"
    },
    "polyglot_notebook": {
     "kernelName": "csharp"
    }
   },
   "source": [
    "**Bài tập 12.9** (trang 215). <mark>Cộng điểm</mark> "
   ]
  },
  {
   "cell_type": "code",
   "execution_count": 67,
   "metadata": {
    "dotnet_interactive": {
     "language": "csharp"
    },
    "polyglot_notebook": {
     "kernelName": "csharp"
    }
   },
   "outputs": [
    {
     "name": "stdout",
     "output_type": "stream",
     "text": [
      " + 1x2^0 + 2x2^1 + 4x2^3 + 5x2^4 = 117\n"
     ]
    }
   ],
   "source": [
    "def HammuTangplus(P,x):\n",
    "    s=0\n",
    "    ham=''\n",
    "    for element in P:\n",
    "        s+= P[element] * x**element\n",
    "        ham += f' + {P[element]}x{x}^{element}'\n",
    "    print(ham,end=\"\")\n",
    "    print(f' = {s}')\n",
    "HammuTangplus({0:1,1:2,3:4,4:5}, 2)"
   ]
  }
 ],
 "metadata": {
  "kernelspec": {
   "display_name": "Anaconda3",
   "language": "python",
   "name": "python3"
  },
  "language_info": {
   "codemirror_mode": {
    "name": "ipython",
    "version": 3
   },
   "file_extension": ".py",
   "mimetype": "text/x-python",
   "name": "python",
   "nbconvert_exporter": "python",
   "pygments_lexer": "ipython3",
   "version": "3.10.8"
  },
  "polyglot_notebook": {
   "kernelInfo": {
    "defaultKernelName": "csharp",
    "items": [
     {
      "aliases": [
       "c#",
       "C#"
      ],
      "languageName": "C#",
      "name": "csharp"
     },
     {
      "aliases": [
       "frontend"
      ],
      "name": "vscode"
     },
     {
      "aliases": [],
      "name": ".NET"
     },
     {
      "aliases": [
       "f#",
       "F#"
      ],
      "languageName": "F#",
      "name": "fsharp"
     },
     {
      "aliases": [],
      "languageName": "HTML",
      "name": "html"
     },
     {
      "aliases": [
       "js"
      ],
      "languageName": "JavaScript",
      "name": "javascript"
     },
     {
      "aliases": [],
      "languageName": "KQL",
      "name": "kql"
     },
     {
      "aliases": [],
      "languageName": "Mermaid",
      "name": "mermaid"
     },
     {
      "aliases": [
       "powershell"
      ],
      "languageName": "PowerShell",
      "name": "pwsh"
     },
     {
      "aliases": [],
      "languageName": "SQL",
      "name": "sql"
     },
     {
      "aliases": [],
      "name": "value"
     },
     {
      "aliases": [],
      "name": "webview"
     }
    ]
   }
  },
  "vscode": {
   "interpreter": {
    "hash": "240f023d94b4ff9081f1d4eabe665a0b3848dd35c5e6b3894d48a24ff221424b"
   }
  }
 },
 "nbformat": 4,
 "nbformat_minor": 2
}
