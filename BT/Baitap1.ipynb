{
 "cells": [
  {
   "attachments": {},
   "cell_type": "markdown",
   "metadata": {
    "dotnet_interactive": {
     "language": "csharp"
    },
    "polyglot_notebook": {
     "kernelName": "csharp"
    }
   },
   "source": [
    "# Bài tập 1 - Ôn tập Python\n",
    "\n",
    "*(Thống kê máy tính và ứng dụng - ĐTTX Kì 2 2022-2023)*\n",
    "\n",
    "Tài liệu tham khảo: [Bí kíp luyện Python](https://github.com/vqhBook/python)"
   ]
  },
  {
   "attachments": {},
   "cell_type": "markdown",
   "metadata": {
    "dotnet_interactive": {
     "language": "csharp"
    },
    "polyglot_notebook": {
     "kernelName": "csharp"
    }
   },
   "source": [
    "MSSV: **21880005**\n",
    "\n",
    "Họ và tên: **Phạm Tuấn Anh**"
   ]
  },
  {
   "attachments": {},
   "cell_type": "markdown",
   "metadata": {
    "dotnet_interactive": {
     "language": "csharp"
    },
    "polyglot_notebook": {
     "kernelName": "csharp"
    }
   },
   "source": [
    "## Câu 1\n",
    "\n",
    "(Tham khảo: Bài 1-3)"
   ]
  },
  {
   "attachments": {},
   "cell_type": "markdown",
   "metadata": {
    "dotnet_interactive": {
     "language": "csharp"
    },
    "polyglot_notebook": {
     "kernelName": "csharp"
    }
   },
   "source": [
    "**Bài tập 2.5** (trang 24). *(0.5 điểm)*"
   ]
  },
  {
   "cell_type": "markdown",
   "metadata": {
    "dotnet_interactive": {
     "language": "csharp"
    },
    "polyglot_notebook": {
     "kernelName": "csharp"
    }
   },
   "source": [
    "<b>Thu ket qua </b>"
   ]
  },
  {
   "cell_type": "code",
   "execution_count": 1,
   "metadata": {
    "dotnet_interactive": {
     "language": "csharp"
    },
    "polyglot_notebook": {
     "kernelName": "csharp"
    },
    "vscode": {
     "languageId": "python"
    }
   },
   "outputs": [
    {
     "ename": "Error",
     "evalue": "(1,11): error CS1002: ; expected\n(2,5): error CS1003: Syntax error, '(' expected\n(2,7): error CS1003: Syntax error, ',' expected\n(2,10): error CS1003: Syntax error, ',' expected\n(2,19): error CS1003: Syntax error, ',' expected\n(2,20): error CS1002: ; expected\n(2,20): error CS1525: Invalid expression term 'if'\n(2,20): error CS1002: ; expected\n(2,20): error CS1026: ) expected\n(3,8): error CS1003: Syntax error, '(' expected\n(3,14): error CS1026: ) expected\n(3,14): error CS1525: Invalid expression term ':'\n(3,14): error CS1002: ; expected\n(3,14): error CS7017: Member definition, statement, or end-of-file expected\n(4,18): error CS1002: ; expected\n(4,18): error CS8641: 'else' cannot start a statement.\n(4,18): error CS1003: Syntax error, '(' expected\n(4,18): error CS1525: Invalid expression term 'else'\n(4,18): error CS1026: ) expected\n(4,18): error CS1525: Invalid expression term 'else'\n(4,18): error CS1002: ; expected\n(5,9): error CS1525: Invalid expression term ':'\n(5,9): error CS1002: ; expected\n(5,9): error CS7017: Member definition, statement, or end-of-file expected",
     "output_type": "error",
     "traceback": [
      "(1,11): error CS1002: ; expected\n",
      "(2,5): error CS1003: Syntax error, '(' expected\n",
      "(2,7): error CS1003: Syntax error, ',' expected\n",
      "(2,10): error CS1003: Syntax error, ',' expected\n",
      "(2,19): error CS1003: Syntax error, ',' expected\n",
      "(2,20): error CS1002: ; expected\n",
      "(2,20): error CS1525: Invalid expression term 'if'\n",
      "(2,20): error CS1002: ; expected\n",
      "(2,20): error CS1026: ) expected\n",
      "(3,8): error CS1003: Syntax error, '(' expected\n",
      "(3,14): error CS1026: ) expected\n",
      "(3,14): error CS1525: Invalid expression term ':'\n",
      "(3,14): error CS1002: ; expected\n",
      "(3,14): error CS7017: Member definition, statement, or end-of-file expected\n",
      "(4,18): error CS1002: ; expected\n",
      "(4,18): error CS8641: 'else' cannot start a statement.\n",
      "(4,18): error CS1003: Syntax error, '(' expected\n",
      "(4,18): error CS1525: Invalid expression term 'else'\n",
      "(4,18): error CS1026: ) expected\n",
      "(4,18): error CS1525: Invalid expression term 'else'\n",
      "(4,18): error CS1002: ; expected\n",
      "(5,9): error CS1525: Invalid expression term ':'\n",
      "(5,9): error CS1002: ; expected\n",
      "(5,9): error CS7017: Member definition, statement, or end-of-file expected"
     ]
    }
   ],
   "source": [
    "result = 0\n",
    "for i in range(60):\n",
    "    if i == 0:\n",
    "        result+=2\n",
    "    else:\n",
    "        result*=2\n"
   ]
  },
  {
   "attachments": {},
   "cell_type": "markdown",
   "metadata": {
    "dotnet_interactive": {
     "language": "csharp"
    },
    "polyglot_notebook": {
     "kernelName": "csharp"
    }
   },
   "source": [
    "```python\n",
    "Kết quả 2^60 là:\n",
    "```"
   ]
  },
  {
   "cell_type": "code",
   "execution_count": 2,
   "metadata": {
    "dotnet_interactive": {
     "language": "csharp"
    },
    "polyglot_notebook": {
     "kernelName": "csharp"
    },
    "vscode": {
     "languageId": "polyglot-notebook"
    }
   },
   "outputs": [
    {
     "ename": "Error",
     "evalue": "(1,1): error CS0103: The name 'result' does not exist in the current context",
     "output_type": "error",
     "traceback": [
      "(1,1): error CS0103: The name 'result' does not exist in the current context"
     ]
    }
   ],
   "source": [
    "result"
   ]
  },
  {
   "attachments": {},
   "cell_type": "markdown",
   "metadata": {
    "dotnet_interactive": {
     "language": "csharp"
    },
    "polyglot_notebook": {
     "kernelName": "csharp"
    }
   },
   "source": [
    "**Bài tập 3.9** (trang 43). *(1 điểm)*"
   ]
  },
  {
   "cell_type": "code",
   "execution_count": 3,
   "metadata": {
    "dotnet_interactive": {
     "language": "csharp"
    },
    "polyglot_notebook": {
     "kernelName": "csharp"
    },
    "vscode": {
     "languageId": "polyglot-notebook"
    }
   },
   "outputs": [
    {
     "ename": "Error",
     "evalue": "(1,23): error CS1003: Syntax error, 'in' expected\n(1,36): error CS0742: A query body must end with a select clause or a group clause",
     "output_type": "error",
     "traceback": [
      "(1,23): error CS1003: Syntax error, 'in' expected\n",
      "(1,36): error CS0742: A query body must end with a select clause or a group clause"
     ]
    }
   ],
   "source": [
    "from fractions import Fraction as F"
   ]
  },
  {
   "attachments": {},
   "cell_type": "markdown",
   "metadata": {
    "dotnet_interactive": {
     "language": "csharp"
    },
    "polyglot_notebook": {
     "kernelName": "csharp"
    }
   },
   "source": [
    "##### Câu a:"
   ]
  },
  {
   "cell_type": "code",
   "execution_count": 4,
   "metadata": {
    "dotnet_interactive": {
     "language": "csharp"
    },
    "polyglot_notebook": {
     "kernelName": "csharp"
    },
    "vscode": {
     "languageId": "polyglot-notebook"
    }
   },
   "outputs": [
    {
     "ename": "Error",
     "evalue": "(1,1): error CS0103: The name 'nhap' does not exist in the current context",
     "output_type": "error",
     "traceback": [
      "(1,1): error CS0103: The name 'nhap' does not exist in the current context"
     ]
    }
   ],
   "source": [
    "nhap=(10+3/7)/(5+3/14)"
   ]
  },
  {
   "cell_type": "code",
   "execution_count": 5,
   "metadata": {
    "dotnet_interactive": {
     "language": "csharp"
    },
    "polyglot_notebook": {
     "kernelName": "csharp"
    },
    "vscode": {
     "languageId": "polyglot-notebook"
    }
   },
   "outputs": [
    {
     "ename": "Error",
     "evalue": "(1,1): error CS0103: The name 'nhap' does not exist in the current context",
     "output_type": "error",
     "traceback": [
      "(1,1): error CS0103: The name 'nhap' does not exist in the current context"
     ]
    }
   ],
   "source": [
    "nhap"
   ]
  },
  {
   "cell_type": "code",
   "execution_count": 6,
   "metadata": {
    "dotnet_interactive": {
     "language": "csharp"
    },
    "polyglot_notebook": {
     "kernelName": "csharp"
    },
    "vscode": {
     "languageId": "polyglot-notebook"
    }
   },
   "outputs": [
    {
     "ename": "Error",
     "evalue": "(1,1): error CS0103: The name 'kq' does not exist in the current context\n(1,4): error CS0103: The name 'F' does not exist in the current context\n(1,10): error CS0103: The name 'F' does not exist in the current context\n(1,21): error CS0103: The name 'F' does not exist in the current context",
     "output_type": "error",
     "traceback": [
      "(1,1): error CS0103: The name 'kq' does not exist in the current context\n",
      "(1,4): error CS0103: The name 'F' does not exist in the current context\n",
      "(1,10): error CS0103: The name 'F' does not exist in the current context\n",
      "(1,21): error CS0103: The name 'F' does not exist in the current context"
     ]
    }
   ],
   "source": [
    "kq=F((10+F(3/7)),(5+F(3/14)))"
   ]
  },
  {
   "attachments": {},
   "cell_type": "markdown",
   "metadata": {
    "dotnet_interactive": {
     "language": "csharp"
    },
    "polyglot_notebook": {
     "kernelName": "csharp"
    }
   },
   "source": [
    "Kết quả:"
   ]
  },
  {
   "cell_type": "code",
   "execution_count": 7,
   "metadata": {
    "dotnet_interactive": {
     "language": "csharp"
    },
    "polyglot_notebook": {
     "kernelName": "csharp"
    },
    "vscode": {
     "languageId": "polyglot-notebook"
    }
   },
   "outputs": [
    {
     "ename": "Error",
     "evalue": "(1,1): error CS0103: The name 'print' does not exist in the current context\n(1,7): error CS0103: The name 'kq' does not exist in the current context",
     "output_type": "error",
     "traceback": [
      "(1,1): error CS0103: The name 'print' does not exist in the current context\n",
      "(1,7): error CS0103: The name 'kq' does not exist in the current context"
     ]
    }
   ],
   "source": [
    "print(kq)"
   ]
  },
  {
   "attachments": {},
   "cell_type": "markdown",
   "metadata": {
    "dotnet_interactive": {
     "language": "csharp"
    },
    "polyglot_notebook": {
     "kernelName": "csharp"
    }
   },
   "source": [
    "#### Câu b:"
   ]
  },
  {
   "cell_type": "code",
   "execution_count": 8,
   "metadata": {
    "dotnet_interactive": {
     "language": "csharp"
    },
    "polyglot_notebook": {
     "kernelName": "csharp"
    },
    "vscode": {
     "languageId": "polyglot-notebook"
    }
   },
   "outputs": [
    {
     "ename": "Error",
     "evalue": "(1,1): error CS0103: The name 'resultb' does not exist in the current context\n(1,9): error CS0103: The name 'F' does not exist in the current context\n(1,13): error CS0193: The * or -> operator must be applied to a pointer\n(1,19): error CS0193: The * or -> operator must be applied to a pointer\n(1,25): error CS0193: The * or -> operator must be applied to a pointer\n(1,30): error CS0193: The * or -> operator must be applied to a pointer",
     "output_type": "error",
     "traceback": [
      "(1,1): error CS0103: The name 'resultb' does not exist in the current context\n",
      "(1,9): error CS0103: The name 'F' does not exist in the current context\n",
      "(1,13): error CS0193: The * or -> operator must be applied to a pointer\n",
      "(1,19): error CS0193: The * or -> operator must be applied to a pointer\n",
      "(1,25): error CS0193: The * or -> operator must be applied to a pointer\n",
      "(1,30): error CS0193: The * or -> operator must be applied to a pointer"
     ]
    }
   ],
   "source": [
    "resultb=F(5**4*20**4,25**5*4**5)"
   ]
  },
  {
   "attachments": {},
   "cell_type": "markdown",
   "metadata": {
    "dotnet_interactive": {
     "language": "csharp"
    },
    "polyglot_notebook": {
     "kernelName": "csharp"
    }
   },
   "source": [
    "Kết quả là:"
   ]
  },
  {
   "cell_type": "code",
   "execution_count": 9,
   "metadata": {
    "dotnet_interactive": {
     "language": "csharp"
    },
    "polyglot_notebook": {
     "kernelName": "csharp"
    },
    "vscode": {
     "languageId": "polyglot-notebook"
    }
   },
   "outputs": [
    {
     "ename": "Error",
     "evalue": "(1,1): error CS0103: The name 'print' does not exist in the current context\n(1,7): error CS0103: The name 'resultb' does not exist in the current context",
     "output_type": "error",
     "traceback": [
      "(1,1): error CS0103: The name 'print' does not exist in the current context\n",
      "(1,7): error CS0103: The name 'resultb' does not exist in the current context"
     ]
    }
   ],
   "source": [
    "print(resultb)"
   ]
  },
  {
   "attachments": {},
   "cell_type": "markdown",
   "metadata": {
    "dotnet_interactive": {
     "language": "csharp"
    },
    "polyglot_notebook": {
     "kernelName": "csharp"
    }
   },
   "source": [
    "#### Câu c:"
   ]
  },
  {
   "cell_type": "code",
   "execution_count": 10,
   "metadata": {
    "dotnet_interactive": {
     "language": "csharp"
    },
    "polyglot_notebook": {
     "kernelName": "csharp"
    },
    "vscode": {
     "languageId": "polyglot-notebook"
    }
   },
   "outputs": [
    {
     "ename": "Error",
     "evalue": "(1,1): error CS0103: The name 'resultc' does not exist in the current context\n(1,16): error CS0103: The name 'F' does not exist in the current context\n(1,25): error CS0103: The name 'F' does not exist in the current context\n(1,36): error CS0103: The name 'F' does not exist in the current context\n(1,43): error CS0103: The name 'F' does not exist in the current context\n(1,51): error CS0193: The * or -> operator must be applied to a pointer",
     "output_type": "error",
     "traceback": [
      "(1,1): error CS0103: The name 'resultc' does not exist in the current context\n",
      "(1,16): error CS0103: The name 'F' does not exist in the current context\n",
      "(1,25): error CS0103: The name 'F' does not exist in the current context\n",
      "(1,36): error CS0103: The name 'F' does not exist in the current context\n",
      "(1,43): error CS0103: The name 'F' does not exist in the current context\n",
      "(1,51): error CS0193: The * or -> operator must be applied to a pointer"
     ]
    }
   ],
   "source": [
    "resultc = (1 + F(\"2/3\")-F(\"1/4\"))*(F(4,5)-F(3,4))**2"
   ]
  },
  {
   "attachments": {},
   "cell_type": "markdown",
   "metadata": {
    "dotnet_interactive": {
     "language": "csharp"
    },
    "polyglot_notebook": {
     "kernelName": "csharp"
    }
   },
   "source": [
    "Kết quả là:"
   ]
  },
  {
   "cell_type": "code",
   "execution_count": 11,
   "metadata": {
    "dotnet_interactive": {
     "language": "csharp"
    },
    "polyglot_notebook": {
     "kernelName": "csharp"
    },
    "vscode": {
     "languageId": "polyglot-notebook"
    }
   },
   "outputs": [
    {
     "ename": "Error",
     "evalue": "(1,1): error CS0103: The name 'print' does not exist in the current context\n(1,7): error CS0103: The name 'resultc' does not exist in the current context",
     "output_type": "error",
     "traceback": [
      "(1,1): error CS0103: The name 'print' does not exist in the current context\n",
      "(1,7): error CS0103: The name 'resultc' does not exist in the current context"
     ]
    }
   ],
   "source": [
    "print(resultc)"
   ]
  },
  {
   "attachments": {},
   "cell_type": "markdown",
   "metadata": {
    "dotnet_interactive": {
     "language": "csharp"
    },
    "polyglot_notebook": {
     "kernelName": "csharp"
    }
   },
   "source": [
    "#### Câu d :"
   ]
  },
  {
   "cell_type": "code",
   "execution_count": 12,
   "metadata": {
    "dotnet_interactive": {
     "language": "csharp"
    },
    "polyglot_notebook": {
     "kernelName": "csharp"
    },
    "vscode": {
     "languageId": "polyglot-notebook"
    }
   },
   "outputs": [
    {
     "ename": "Error",
     "evalue": "(1,1): error CS0103: The name 'resultd' does not exist in the current context\n(1,11): error CS0103: The name 'F' does not exist in the current context\n(1,27): error CS0103: The name 'F' does not exist in the current context\n(1,35): error CS0103: The name 'F' does not exist in the current context\n(1,43): error CS0193: The * or -> operator must be applied to a pointer",
     "output_type": "error",
     "traceback": [
      "(1,1): error CS0103: The name 'resultd' does not exist in the current context\n",
      "(1,11): error CS0103: The name 'F' does not exist in the current context\n",
      "(1,27): error CS0103: The name 'F' does not exist in the current context\n",
      "(1,35): error CS0103: The name 'F' does not exist in the current context\n",
      "(1,43): error CS0193: The * or -> operator must be applied to a pointer"
     ]
    }
   ],
   "source": [
    "resultd = F(\"-0.375\")*((4+F(1,3))*F(\"-2\")**3)"
   ]
  },
  {
   "attachments": {},
   "cell_type": "markdown",
   "metadata": {
    "dotnet_interactive": {
     "language": "csharp"
    },
    "polyglot_notebook": {
     "kernelName": "csharp"
    }
   },
   "source": [
    "Kết quả là:"
   ]
  },
  {
   "cell_type": "code",
   "execution_count": 13,
   "metadata": {
    "dotnet_interactive": {
     "language": "csharp"
    },
    "polyglot_notebook": {
     "kernelName": "csharp"
    },
    "vscode": {
     "languageId": "polyglot-notebook"
    }
   },
   "outputs": [
    {
     "ename": "Error",
     "evalue": "(1,1): error CS0103: The name 'print' does not exist in the current context\n(1,7): error CS0103: The name 'resultd' does not exist in the current context",
     "output_type": "error",
     "traceback": [
      "(1,1): error CS0103: The name 'print' does not exist in the current context\n",
      "(1,7): error CS0103: The name 'resultd' does not exist in the current context"
     ]
    }
   ],
   "source": [
    "print(resultd)"
   ]
  },
  {
   "attachments": {},
   "cell_type": "markdown",
   "metadata": {
    "dotnet_interactive": {
     "language": "csharp"
    },
    "polyglot_notebook": {
     "kernelName": "csharp"
    }
   },
   "source": [
    "## Câu 2\n",
    "\n",
    "(Tham khảo: Bài 4, 6)"
   ]
  },
  {
   "attachments": {},
   "cell_type": "markdown",
   "metadata": {
    "dotnet_interactive": {
     "language": "csharp"
    },
    "polyglot_notebook": {
     "kernelName": "csharp"
    }
   },
   "source": [
    "**Bài tập 4.4** (trang 57). *(0.5 điểm)*"
   ]
  },
  {
   "cell_type": "code",
   "execution_count": 14,
   "metadata": {
    "dotnet_interactive": {
     "language": "csharp"
    },
    "polyglot_notebook": {
     "kernelName": "csharp"
    },
    "vscode": {
     "languageId": "polyglot-notebook"
    }
   },
   "outputs": [
    {
     "ename": "Error",
     "evalue": "(1,22): error CS1002: ; expected\n(2,8): error CS1003: Syntax error, ',' expected",
     "output_type": "error",
     "traceback": [
      "(1,22): error CS1002: ; expected\n",
      "(2,8): error CS1003: Syntax error, ',' expected"
     ]
    }
   ],
   "source": [
    "name = input(\"Tên: \")\n",
    "print(f\"Happy birthday to {name}. \\nHappybirtday to {name}\\nHappy birthday, happy birthday, happy birthday to {name}\")"
   ]
  },
  {
   "attachments": {},
   "cell_type": "markdown",
   "metadata": {
    "dotnet_interactive": {
     "language": "csharp"
    },
    "polyglot_notebook": {
     "kernelName": "csharp"
    }
   },
   "source": [
    "**Bài tập 6.4** (trang 88). *(1 điểm)*"
   ]
  },
  {
   "cell_type": "code",
   "execution_count": 15,
   "metadata": {
    "dotnet_interactive": {
     "language": "csharp"
    },
    "polyglot_notebook": {
     "kernelName": "csharp"
    },
    "vscode": {
     "languageId": "polyglot-notebook"
    }
   },
   "outputs": [
    {
     "ename": "Error",
     "evalue": "(1,9): error CS1525: Invalid expression term 'float'\n(1,21): error CS1012: Too many characters in character literal\n(1,44): error CS1002: ; expected\n(2,19): error CS1001: Identifier expected\n(2,19): error CS1003: Syntax error, ',' expected\n(2,20): error CS1003: Syntax error, ',' expected\n(2,23): error CS1001: Identifier expected\n(2,27): error CS1001: Identifier expected\n(2,27): error CS1003: Syntax error, ',' expected\n(2,28): error CS1003: Syntax error, ',' expected\n(2,32): error CS1001: Identifier expected\n(2,34): error CS1018: Keyword 'this' or 'base' expected\n(2,34): error CS1002: ; expected\n(3,8): error CS1011: Empty character literal\n(3,10): error CS1002: ; expected\n(4,8): error CS1003: Syntax error, '(' expected\n(4,17): error CS1026: ) expected\n(4,17): error CS1525: Invalid expression term ':'\n(4,17): error CS1002: ; expected\n(4,17): error CS7017: Member definition, statement, or end-of-file expected\n(5,12): error CS1012: Too many characters in character literal\n(5,17): error CS1002: ; expected\n(5,17): error CS8641: 'else' cannot start a statement.\n(5,17): error CS1003: Syntax error, '(' expected\n(5,17): error CS1525: Invalid expression term 'else'\n(5,17): error CS1026: ) expected\n(5,17): error CS1525: Invalid expression term 'else'\n(5,17): error CS1002: ; expected\n(6,9): error CS1525: Invalid expression term ':'\n(6,9): error CS1002: ; expected\n(6,9): error CS7017: Member definition, statement, or end-of-file expected\n(7,12): error CS1012: Too many characters in character literal\n(7,23): error CS1002: ; expected\n(8,19): error CS1003: Syntax error, ',' expected\n(8,19): error CS1012: Too many characters in character literal\n(8,46): error CS1002: ; expected\n(9,8): error CS1003: Syntax error, ',' expected\n(9,8): error CS1012: Too many characters in character literal\n(9,28): error CS1002: ; expected\n(10,4): error CS1003: Syntax error, '(' expected\n(10,14): error CS1026: ) expected\n(10,14): error CS1525: Invalid expression term ':'\n(10,14): error CS1002: ; expected\n(10,14): error CS7017: Member definition, statement, or end-of-file expected\n(11,36): error CS1002: ; expected\n(12,12): error CS1002: ; expected\n(12,12): error CS1525: Invalid expression term '>='\n(12,15): error CS1002: ; expected\n(12,15): error CS7017: Member definition, statement, or end-of-file expected\n(13,12): error CS1012: Too many characters in character literal\n(13,28): error CS1002: ; expected\n(14,12): error CS1002: ; expected\n(14,12): error CS1525: Invalid expression term '>='\n(14,15): error CS1002: ; expected\n(14,15): error CS7017: Member definition, statement, or end-of-file expected\n(15,13): error CS1012: Too many characters in character literal\n(15,25): error CS1002: ; expected\n(16,12): error CS1002: ; expected\n(16,12): error CS1525: Invalid expression term '>='\n(16,15): error CS1002: ; expected\n(16,15): error CS7017: Member definition, statement, or end-of-file expected\n(17,13): error CS1012: Too many characters in character literal\n(17,25): error CS1002: ; expected\n(18,12): error CS1002: ; expected\n(18,12): error CS1525: Invalid expression term '>='\n(18,15): error CS1002: ; expected\n(18,15): error CS7017: Member definition, statement, or end-of-file expected\n(19,13): error CS1012: Too many characters in character literal\n(19,36): error CS1002: ; expected\n(20,12): error CS1002: ; expected\n(20,12): error CS1525: Invalid expression term '>='\n(20,15): error CS1002: ; expected\n(20,15): error CS7017: Member definition, statement, or end-of-file expected\n(21,13): error CS1012: Too many characters in character literal\n(21,31): error CS1002: ; expected\n(22,12): error CS1002: ; expected\n(22,12): error CS1525: Invalid expression term '>='\n(22,15): error CS1002: ; expected\n(22,15): error CS7017: Member definition, statement, or end-of-file expected\n(23,13): error CS1012: Too many characters in character literal\n(23,25): error CS1002: ; expected\n(23,25): error CS8641: 'else' cannot start a statement.\n(23,25): error CS1003: Syntax error, '(' expected\n(23,25): error CS1525: Invalid expression term 'else'\n(23,25): error CS1026: ) expected\n(23,25): error CS1525: Invalid expression term 'else'\n(23,25): error CS1002: ; expected\n(24,5): error CS1525: Invalid expression term ':'\n(24,5): error CS1002: ; expected\n(24,5): error CS7017: Member definition, statement, or end-of-file expected\n(25,13): error CS1012: Too many characters in character literal",
     "output_type": "error",
     "traceback": [
      "(1,9): error CS1525: Invalid expression term 'float'\n",
      "(1,21): error CS1012: Too many characters in character literal\n",
      "(1,44): error CS1002: ; expected\n",
      "(2,19): error CS1001: Identifier expected\n",
      "(2,19): error CS1003: Syntax error, ',' expected\n",
      "(2,20): error CS1003: Syntax error, ',' expected\n",
      "(2,23): error CS1001: Identifier expected\n",
      "(2,27): error CS1001: Identifier expected\n",
      "(2,27): error CS1003: Syntax error, ',' expected\n",
      "(2,28): error CS1003: Syntax error, ',' expected\n",
      "(2,32): error CS1001: Identifier expected\n",
      "(2,34): error CS1018: Keyword 'this' or 'base' expected\n",
      "(2,34): error CS1002: ; expected\n",
      "(3,8): error CS1011: Empty character literal\n",
      "(3,10): error CS1002: ; expected\n",
      "(4,8): error CS1003: Syntax error, '(' expected\n",
      "(4,17): error CS1026: ) expected\n",
      "(4,17): error CS1525: Invalid expression term ':'\n",
      "(4,17): error CS1002: ; expected\n",
      "(4,17): error CS7017: Member definition, statement, or end-of-file expected\n",
      "(5,12): error CS1012: Too many characters in character literal\n",
      "(5,17): error CS1002: ; expected\n",
      "(5,17): error CS8641: 'else' cannot start a statement.\n",
      "(5,17): error CS1003: Syntax error, '(' expected\n",
      "(5,17): error CS1525: Invalid expression term 'else'\n",
      "(5,17): error CS1026: ) expected\n",
      "(5,17): error CS1525: Invalid expression term 'else'\n",
      "(5,17): error CS1002: ; expected\n",
      "(6,9): error CS1525: Invalid expression term ':'\n",
      "(6,9): error CS1002: ; expected\n",
      "(6,9): error CS7017: Member definition, statement, or end-of-file expected\n",
      "(7,12): error CS1012: Too many characters in character literal\n",
      "(7,23): error CS1002: ; expected\n",
      "(8,19): error CS1003: Syntax error, ',' expected\n",
      "(8,19): error CS1012: Too many characters in character literal\n",
      "(8,46): error CS1002: ; expected\n",
      "(9,8): error CS1003: Syntax error, ',' expected\n",
      "(9,8): error CS1012: Too many characters in character literal\n",
      "(9,28): error CS1002: ; expected\n",
      "(10,4): error CS1003: Syntax error, '(' expected\n",
      "(10,14): error CS1026: ) expected\n",
      "(10,14): error CS1525: Invalid expression term ':'\n",
      "(10,14): error CS1002: ; expected\n",
      "(10,14): error CS7017: Member definition, statement, or end-of-file expected\n",
      "(11,36): error CS1002: ; expected\n",
      "(12,12): error CS1002: ; expected\n",
      "(12,12): error CS1525: Invalid expression term '>='\n",
      "(12,15): error CS1002: ; expected\n",
      "(12,15): error CS7017: Member definition, statement, or end-of-file expected\n",
      "(13,12): error CS1012: Too many characters in character literal\n",
      "(13,28): error CS1002: ; expected\n",
      "(14,12): error CS1002: ; expected\n",
      "(14,12): error CS1525: Invalid expression term '>='\n",
      "(14,15): error CS1002: ; expected\n",
      "(14,15): error CS7017: Member definition, statement, or end-of-file expected\n",
      "(15,13): error CS1012: Too many characters in character literal\n",
      "(15,25): error CS1002: ; expected\n",
      "(16,12): error CS1002: ; expected\n",
      "(16,12): error CS1525: Invalid expression term '>='\n",
      "(16,15): error CS1002: ; expected\n",
      "(16,15): error CS7017: Member definition, statement, or end-of-file expected\n",
      "(17,13): error CS1012: Too many characters in character literal\n",
      "(17,25): error CS1002: ; expected\n",
      "(18,12): error CS1002: ; expected\n",
      "(18,12): error CS1525: Invalid expression term '>='\n",
      "(18,15): error CS1002: ; expected\n",
      "(18,15): error CS7017: Member definition, statement, or end-of-file expected\n",
      "(19,13): error CS1012: Too many characters in character literal\n",
      "(19,36): error CS1002: ; expected\n",
      "(20,12): error CS1002: ; expected\n",
      "(20,12): error CS1525: Invalid expression term '>='\n",
      "(20,15): error CS1002: ; expected\n",
      "(20,15): error CS7017: Member definition, statement, or end-of-file expected\n",
      "(21,13): error CS1012: Too many characters in character literal\n",
      "(21,31): error CS1002: ; expected\n",
      "(22,12): error CS1002: ; expected\n",
      "(22,12): error CS1525: Invalid expression term '>='\n",
      "(22,15): error CS1002: ; expected\n",
      "(22,15): error CS7017: Member definition, statement, or end-of-file expected\n",
      "(23,13): error CS1012: Too many characters in character literal\n",
      "(23,25): error CS1002: ; expected\n",
      "(23,25): error CS8641: 'else' cannot start a statement.\n",
      "(23,25): error CS1003: Syntax error, '(' expected\n",
      "(23,25): error CS1525: Invalid expression term 'else'\n",
      "(23,25): error CS1026: ) expected\n",
      "(23,25): error CS1525: Invalid expression term 'else'\n",
      "(23,25): error CS1002: ; expected\n",
      "(24,5): error CS1525: Invalid expression term ':'\n",
      "(24,5): error CS1002: ; expected\n",
      "(24,5): error CS7017: Member definition, statement, or end-of-file expected\n",
      "(25,13): error CS1012: Too many characters in character literal"
     ]
    }
   ],
   "source": [
    "grade = float(input('Nhập điểm thí sinh:'))\n",
    "def Xeploai(hocluc:str,dat:bool):\n",
    "    XL=''\n",
    "    if dat==True:\n",
    "        XL='Đạt'\n",
    "    else:\n",
    "        XL='Không đạt'\n",
    "    return print(f'Học lực: {hocluc} - {XL}')\n",
    "print(f'Điểm nhập:{grade}')\n",
    "if grade>10.0:\n",
    "    print(\"Kiểm tra lại điểm nhập\")\n",
    "elif grade >=9:\n",
    "   Xeploai('Xuất sắc',True)\n",
    "elif grade >=8:\n",
    "    Xeploai('Giỏi',True)\n",
    "elif grade >=7:\n",
    "    Xeploai('Khá', True)\n",
    "elif grade >=6:\n",
    "    Xeploai('Trung Bình Khá', True)\n",
    "elif grade >=5:\n",
    "    Xeploai('Trung Bình',True)\n",
    "elif grade >=4:\n",
    "    Xeploai('Yếu',False)\n",
    "else:\n",
    "    Xeploai('Kém',False)"
   ]
  },
  {
   "attachments": {},
   "cell_type": "markdown",
   "metadata": {
    "dotnet_interactive": {
     "language": "csharp"
    },
    "polyglot_notebook": {
     "kernelName": "csharp"
    }
   },
   "source": [
    "## Câu 3\n",
    "\n",
    "(Tham khảo: Bài 7)"
   ]
  },
  {
   "attachments": {},
   "cell_type": "markdown",
   "metadata": {
    "dotnet_interactive": {
     "language": "csharp"
    },
    "polyglot_notebook": {
     "kernelName": "csharp"
    }
   },
   "source": [
    "**Bài tập 7.3** (trang 107). *(1 điểm)*"
   ]
  },
  {
   "cell_type": "code",
   "execution_count": 16,
   "metadata": {
    "dotnet_interactive": {
     "language": "csharp"
    },
    "polyglot_notebook": {
     "kernelName": "csharp"
    },
    "vscode": {
     "languageId": "polyglot-notebook"
    }
   },
   "outputs": [
    {
     "ename": "Error",
     "evalue": "(1,7): error CS1519: Invalid token '=' in class, record, struct, or interface member declaration\n(1,7): error CS1525: Invalid expression term '='\n(1,18): error CS1012: Too many characters in character literal\n(1,35): error CS1002: ; expected\n(2,17): error CS1525: Invalid expression term 'string'\n(2,24): error CS1002: ; expected\n(3,9): error CS1002: ; expected\n(4,5): error CS1003: Syntax error, '(' expected\n(4,7): error CS1003: Syntax error, ',' expected\n(4,10): error CS1003: Syntax error, ',' expected\n(4,32): error CS1003: Syntax error, ',' expected\n(4,33): error CS1003: Syntax error, ',' expected\n(5,23): error CS1525: Invalid expression term 'int'\n(5,41): error CS1003: Syntax error, ',' expected\n(6,14): error CS1002: ; expected\n(6,14): error CS1733: Expected expression\n(6,14): error CS1002: ; expected\n(6,14): error CS1026: ) expected\n(6,14): error CS1733: Expected expression\n(6,14): error CS1002: ; expected",
     "output_type": "error",
     "traceback": [
      "(1,7): error CS1519: Invalid token '=' in class, record, struct, or interface member declaration\n",
      "(1,7): error CS1525: Invalid expression term '='\n",
      "(1,18): error CS1012: Too many characters in character literal\n",
      "(1,35): error CS1002: ; expected\n",
      "(2,17): error CS1525: Invalid expression term 'string'\n",
      "(2,24): error CS1002: ; expected\n",
      "(3,9): error CS1002: ; expected\n",
      "(4,5): error CS1003: Syntax error, '(' expected\n",
      "(4,7): error CS1003: Syntax error, ',' expected\n",
      "(4,10): error CS1003: Syntax error, ',' expected\n",
      "(4,32): error CS1003: Syntax error, ',' expected\n",
      "(4,33): error CS1003: Syntax error, ',' expected\n",
      "(5,23): error CS1525: Invalid expression term 'int'\n",
      "(5,41): error CS1003: Syntax error, ',' expected\n",
      "(6,14): error CS1002: ; expected\n",
      "(6,14): error CS1733: Expected expression\n",
      "(6,14): error CS1002: ; expected\n",
      "(6,14): error CS1026: ) expected\n",
      "(6,14): error CS1733: Expected expression\n",
      "(6,14): error CS1002: ; expected"
     ]
    }
   ],
   "source": [
    "string=str(input('Nhập chuỗi số'))\n",
    "liststring=list(string)\n",
    "result=0\n",
    "for i in range(len(liststring)):\n",
    "    result = result + int(liststring[i])\n",
    "print(result)"
   ]
  },
  {
   "attachments": {},
   "cell_type": "markdown",
   "metadata": {
    "dotnet_interactive": {
     "language": "csharp"
    },
    "polyglot_notebook": {
     "kernelName": "csharp"
    }
   },
   "source": [
    "**Bài tập 7.6** (trang 107). *(1.5 điểm)*"
   ]
  },
  {
   "cell_type": "code",
   "execution_count": 17,
   "metadata": {
    "dotnet_interactive": {
     "language": "csharp"
    },
    "polyglot_notebook": {
     "kernelName": "csharp"
    },
    "vscode": {
     "languageId": "polyglot-notebook"
    }
   },
   "outputs": [
    {
     "ename": "Error",
     "evalue": "(1,14): error CS1002: ; expected\n(1,14): error CS1525: Invalid expression term 'as'",
     "output_type": "error",
     "traceback": [
      "(1,14): error CS1002: ; expected\n",
      "(1,14): error CS1525: Invalid expression term 'as'"
     ]
    }
   ],
   "source": [
    "import numpy as np"
   ]
  },
  {
   "cell_type": "code",
   "execution_count": 18,
   "metadata": {
    "dotnet_interactive": {
     "language": "csharp"
    },
    "polyglot_notebook": {
     "kernelName": "csharp"
    },
    "vscode": {
     "languageId": "polyglot-notebook"
    }
   },
   "outputs": [
    {
     "ename": "Error",
     "evalue": "(1,9): error CS1525: Invalid expression term 'int'\n(1,19): error CS1012: Too many characters in character literal\n(1,81): error CS1002: ; expected\n(2,8): error CS1525: Invalid expression term 'int'\n(2,18): error CS1012: Too many characters in character literal\n(2,58): error CS1002: ; expected\n(3,18): error CS1001: Identifier expected\n(3,20): error CS1018: Keyword 'this' or 'base' expected\n(3,20): error CS1002: ; expected\n(4,7): error CS1024: Preprocessor directive expected\n(5,7): error CS1024: Preprocessor directive expected\n(6,11): error CS1024: Preprocessor directive expected\n(7,19): error CS1025: Single-line comment or end-of-line expected\n(8,19): error CS1024: Preprocessor directive expected\n(9,7): error CS1024: Preprocessor directive expected\n(17,7): error CS1024: Preprocessor directive expected\n(46,3): error CS1024: Preprocessor directive expected\n(47,7): error CS1024: Preprocessor directive expected\n(53,12): error CS1027: #endif directive expected",
     "output_type": "error",
     "traceback": [
      "(1,9): error CS1525: Invalid expression term 'int'\n",
      "(1,19): error CS1012: Too many characters in character literal\n",
      "(1,81): error CS1002: ; expected\n",
      "(2,8): error CS1525: Invalid expression term 'int'\n",
      "(2,18): error CS1012: Too many characters in character literal\n",
      "(2,58): error CS1002: ; expected\n",
      "(3,18): error CS1001: Identifier expected\n",
      "(3,20): error CS1018: Keyword 'this' or 'base' expected\n",
      "(3,20): error CS1002: ; expected\n",
      "(4,7): error CS1024: Preprocessor directive expected\n",
      "(5,7): error CS1024: Preprocessor directive expected\n",
      "(6,11): error CS1024: Preprocessor directive expected\n",
      "(7,19): error CS1025: Single-line comment or end-of-line expected\n",
      "(8,19): error CS1024: Preprocessor directive expected\n",
      "(9,7): error CS1024: Preprocessor directive expected\n",
      "(17,7): error CS1024: Preprocessor directive expected\n",
      "(46,3): error CS1024: Preprocessor directive expected\n",
      "(47,7): error CS1024: Preprocessor directive expected\n",
      "(53,12): error CS1027: #endif directive expected"
     ]
    }
   ],
   "source": [
    "shape = int(input('Hình bạn muốn vẽ (thứ tự từ 1-4 tương tự thứ tự trong đề):'))\n",
    "size = int(input('Số dòng (số dòng là số lẽ lớn hơn 2)'))\n",
    "def drawtria(size):\n",
    "    # triashape = np.zeros((size,size), dtype=int)\n",
    "    # for i in range(size):\n",
    "    #     for j in range(size):\n",
    "    #         if j>=size-i-1:\n",
    "    #             triashape[i][j]=1\n",
    "    # print(triashape)\n",
    "    for i in range(size):\n",
    "        for j in range(size):\n",
    "            if j >= size-i-1:\n",
    "                print(\"*\",end=\"\")\n",
    "            else:\n",
    "                print(\" \",end=\"\")\n",
    "        print()\n",
    "    # return triashape\n",
    "def drawpara(size):\n",
    "    for i in range(size):\n",
    "        for j in range(size):\n",
    "            if j >= size-i-1:\n",
    "                for z in range(size):\n",
    "                    print(\"*\",end=\"\")\n",
    "                break\n",
    "            else:\n",
    "                print(\" \",end=\"\")\n",
    "        print()\n",
    "def drawf(size):\n",
    "    midleindex = size/2\n",
    "    for i in range(size):\n",
    "        for j in range(size):\n",
    "            if 2*i+1<=size:\n",
    "                if j >= midleindex-i and j<= midleindex +i:\n",
    "                    print(\"*\",end=\"\")\n",
    "                else:\n",
    "                    print(\" \",end=\"\")\n",
    "                print()\n",
    "            else:\n",
    "                if j >= i- midleindex and j<= midleindex +i:\n",
    "                    print(\"*\",end=\"\")\n",
    "                else:\n",
    "                    print(\" \",end=\"\")\n",
    "                print()\n",
    "def drawrev(size):\n",
    "    pass\n",
    "# def showShape(Matrixshape:np.array):\n",
    "#     for i in Matrixshape.shape()\n",
    "if shape == 0:\n",
    "    dra\n",
    "    \n",
    "drawtria(size)\n",
    "drawpara(size)\n",
    "drawf(size)"
   ]
  },
  {
   "attachments": {},
   "cell_type": "markdown",
   "metadata": {
    "dotnet_interactive": {
     "language": "csharp"
    },
    "polyglot_notebook": {
     "kernelName": "csharp"
    }
   },
   "source": [
    "## Câu 4\n",
    "\n",
    "(Tham khảo: Bài 8)"
   ]
  },
  {
   "attachments": {},
   "cell_type": "markdown",
   "metadata": {
    "dotnet_interactive": {
     "language": "csharp"
    },
    "polyglot_notebook": {
     "kernelName": "csharp"
    }
   },
   "source": [
    "**Bài tập 9.5** (trang 150). *(2 điểm)*"
   ]
  },
  {
   "cell_type": "code",
   "execution_count": 19,
   "metadata": {
    "dotnet_interactive": {
     "language": "csharp"
    },
    "polyglot_notebook": {
     "kernelName": "csharp"
    },
    "vscode": {
     "languageId": "polyglot-notebook"
    }
   },
   "outputs": [],
   "source": []
  },
  {
   "attachments": {},
   "cell_type": "markdown",
   "metadata": {
    "dotnet_interactive": {
     "language": "csharp"
    },
    "polyglot_notebook": {
     "kernelName": "csharp"
    }
   },
   "source": [
    "### Câu 5\n",
    "\n",
    "(Tham khảo: Bài 10-12)"
   ]
  },
  {
   "attachments": {},
   "cell_type": "markdown",
   "metadata": {
    "dotnet_interactive": {
     "language": "csharp"
    },
    "polyglot_notebook": {
     "kernelName": "csharp"
    }
   },
   "source": [
    "**Bài tập 11.4** (trang 193). *(2.5 điểm)*"
   ]
  },
  {
   "cell_type": "code",
   "execution_count": 20,
   "metadata": {
    "dotnet_interactive": {
     "language": "csharp"
    },
    "polyglot_notebook": {
     "kernelName": "csharp"
    },
    "vscode": {
     "languageId": "polyglot-notebook"
    }
   },
   "outputs": [],
   "source": []
  },
  {
   "attachments": {},
   "cell_type": "markdown",
   "metadata": {
    "dotnet_interactive": {
     "language": "csharp"
    },
    "polyglot_notebook": {
     "kernelName": "csharp"
    }
   },
   "source": [
    "**Bài tập 12.9** (trang 215). <mark>Cộng điểm</mark> "
   ]
  },
  {
   "cell_type": "code",
   "execution_count": 21,
   "metadata": {
    "dotnet_interactive": {
     "language": "csharp"
    },
    "polyglot_notebook": {
     "kernelName": "csharp"
    },
    "vscode": {
     "languageId": "polyglot-notebook"
    }
   },
   "outputs": [],
   "source": []
  }
 ],
 "metadata": {
  "kernelspec": {
   "display_name": ".NET (C#)",
   "language": "C#",
   "name": ".net-csharp"
  },
  "polyglot_notebook": {
   "kernelInfo": {
    "defaultKernelName": "csharp",
    "items": [
     {
      "aliases": [
       "c#",
       "C#"
      ],
      "languageName": "C#",
      "name": "csharp"
     },
     {
      "aliases": [
       "frontend"
      ],
      "name": "vscode"
     },
     {
      "aliases": [],
      "name": ".NET"
     },
     {
      "aliases": [
       "f#",
       "F#"
      ],
      "languageName": "F#",
      "name": "fsharp"
     },
     {
      "aliases": [],
      "languageName": "HTML",
      "name": "html"
     },
     {
      "aliases": [
       "js"
      ],
      "languageName": "JavaScript",
      "name": "javascript"
     },
     {
      "aliases": [],
      "languageName": "KQL",
      "name": "kql"
     },
     {
      "aliases": [],
      "languageName": "Mermaid",
      "name": "mermaid"
     },
     {
      "aliases": [
       "powershell"
      ],
      "languageName": "PowerShell",
      "name": "pwsh"
     },
     {
      "aliases": [],
      "languageName": "SQL",
      "name": "sql"
     },
     {
      "aliases": [],
      "name": "value"
     },
     {
      "aliases": [],
      "name": "webview"
     }
    ]
   }
  }
 },
 "nbformat": 4,
 "nbformat_minor": 2
}
