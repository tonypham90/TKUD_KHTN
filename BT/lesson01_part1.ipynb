{
 "cells": [
  {
   "cell_type": "markdown",
   "metadata": {},
   "source": [
    "# Bài 1 - Trực quan hóa dữ liệu (Data visualization) - Phần 1"
   ]
  },
  {
   "cell_type": "markdown",
   "metadata": {},
   "source": [
    "Dùng thư viện [`matplotlib`](https://matplotlib.org/) để vẽ biểu đồ."
   ]
  },
  {
   "cell_type": "code",
   "execution_count": 40,
   "metadata": {},
   "outputs": [
    {
     "name": "stdout",
     "output_type": "stream",
     "text": [
      "Requirement already satisfied: scikit-learn in /Users/tonypham/opt/anaconda3/envs/Anaconda3/lib/python3.10/site-packages (1.2.0)\n",
      "Collecting scikit-learn\n",
      "  Downloading scikit_learn-1.2.1-cp310-cp310-macosx_10_9_x86_64.whl (9.1 MB)\n",
      "\u001b[2K     \u001b[90m━━━━━━━━━━━━━━━━━━━━━━━━━━━━━━━━━━━━━━━━\u001b[0m \u001b[32m9.1/9.1 MB\u001b[0m \u001b[31m35.6 kB/s\u001b[0m eta \u001b[36m0:00:00\u001b[0m00:01\u001b[0m00:07\u001b[0mm\n",
      "\u001b[?25hRequirement already satisfied: scipy>=1.3.2 in /Users/tonypham/opt/anaconda3/envs/Anaconda3/lib/python3.10/site-packages (from scikit-learn) (1.9.3)\n",
      "Requirement already satisfied: numpy>=1.17.3 in /Users/tonypham/opt/anaconda3/envs/Anaconda3/lib/python3.10/site-packages (from scikit-learn) (1.23.5)\n",
      "Requirement already satisfied: threadpoolctl>=2.0.0 in /Users/tonypham/opt/anaconda3/envs/Anaconda3/lib/python3.10/site-packages (from scikit-learn) (3.1.0)\n",
      "Requirement already satisfied: joblib>=1.1.1 in /Users/tonypham/opt/anaconda3/envs/Anaconda3/lib/python3.10/site-packages (from scikit-learn) (1.2.0)\n",
      "Installing collected packages: scikit-learn\n",
      "  Attempting uninstall: scikit-learn\n",
      "    Found existing installation: scikit-learn 1.2.0\n",
      "    Uninstalling scikit-learn-1.2.0:\n",
      "      Successfully uninstalled scikit-learn-1.2.0\n",
      "Successfully installed scikit-learn-1.2.1\n",
      "Note: you may need to restart the kernel to use updated packages.\n"
     ]
    }
   ],
   "source": [
    "pip install -U scikit-learn"
   ]
  },
  {
   "cell_type": "code",
   "execution_count": 43,
   "metadata": {},
   "outputs": [
    {
     "name": "stdout",
     "output_type": "stream",
     "text": [
      "Requirement already satisfied: tensorflow in /Users/tonypham/opt/anaconda3/envs/Anaconda3/lib/python3.10/site-packages (2.10.0)\n",
      "Collecting tensorflow\n",
      "  Downloading tensorflow-2.11.0-cp310-cp310-macosx_10_14_x86_64.whl (244.3 MB)\n",
      "\u001b[2K     \u001b[90m━━━━━━━━━━━━━━━━━━━━━━━━━━━━━━━━━━━━━━━\u001b[0m \u001b[32m244.3/244.3 MB\u001b[0m \u001b[31m3.3 MB/s\u001b[0m eta \u001b[36m0:00:00\u001b[0m00:01\u001b[0m00:03\u001b[0m\n",
      "\u001b[?25hRequirement already satisfied: grpcio<2.0,>=1.24.3 in /Users/tonypham/opt/anaconda3/envs/Anaconda3/lib/python3.10/site-packages (from tensorflow) (1.42.0)\n",
      "Requirement already satisfied: opt-einsum>=2.3.2 in /Users/tonypham/opt/anaconda3/envs/Anaconda3/lib/python3.10/site-packages (from tensorflow) (3.3.0)\n",
      "Requirement already satisfied: astunparse>=1.6.0 in /Users/tonypham/opt/anaconda3/envs/Anaconda3/lib/python3.10/site-packages (from tensorflow) (1.6.3)\n",
      "Collecting keras<2.12,>=2.11.0\n",
      "  Using cached keras-2.11.0-py2.py3-none-any.whl (1.7 MB)\n",
      "Requirement already satisfied: setuptools in /Users/tonypham/opt/anaconda3/envs/Anaconda3/lib/python3.10/site-packages (from tensorflow) (65.6.3)\n",
      "Requirement already satisfied: flatbuffers>=2.0 in /Users/tonypham/opt/anaconda3/envs/Anaconda3/lib/python3.10/site-packages (from tensorflow) (2.0)\n",
      "Collecting tensorflow-estimator<2.12,>=2.11.0\n",
      "  Using cached tensorflow_estimator-2.11.0-py2.py3-none-any.whl (439 kB)\n",
      "Requirement already satisfied: termcolor>=1.1.0 in /Users/tonypham/opt/anaconda3/envs/Anaconda3/lib/python3.10/site-packages (from tensorflow) (2.1.0)\n",
      "Collecting tensorboard<2.12,>=2.11\n",
      "  Downloading tensorboard-2.11.2-py3-none-any.whl (6.0 MB)\n",
      "\u001b[2K     \u001b[90m━━━━━━━━━━━━━━━━━━━━━━━━━━━━━━━━━━━━━━━━\u001b[0m \u001b[32m6.0/6.0 MB\u001b[0m \u001b[31m6.0 MB/s\u001b[0m eta \u001b[36m0:00:00\u001b[0m00:01\u001b[0m00:01\u001b[0m\n",
      "\u001b[?25hCollecting tensorflow-io-gcs-filesystem>=0.23.1\n",
      "  Downloading tensorflow_io_gcs_filesystem-0.30.0-cp310-cp310-macosx_10_14_x86_64.whl (1.6 MB)\n",
      "\u001b[2K     \u001b[90m━━━━━━━━━━━━━━━━━━━━━━━━━━━━━━━━━━━━━━━━\u001b[0m \u001b[32m1.6/1.6 MB\u001b[0m \u001b[31m6.2 MB/s\u001b[0m eta \u001b[36m0:00:00\u001b[0ma \u001b[36m0:00:01\u001b[0m\n",
      "\u001b[?25hRequirement already satisfied: gast<=0.4.0,>=0.2.1 in /Users/tonypham/opt/anaconda3/envs/Anaconda3/lib/python3.10/site-packages (from tensorflow) (0.4.0)\n",
      "Requirement already satisfied: absl-py>=1.0.0 in /Users/tonypham/opt/anaconda3/envs/Anaconda3/lib/python3.10/site-packages (from tensorflow) (1.3.0)\n",
      "Requirement already satisfied: six>=1.12.0 in /Users/tonypham/opt/anaconda3/envs/Anaconda3/lib/python3.10/site-packages (from tensorflow) (1.16.0)\n",
      "Requirement already satisfied: wrapt>=1.11.0 in /Users/tonypham/opt/anaconda3/envs/Anaconda3/lib/python3.10/site-packages (from tensorflow) (1.14.1)\n",
      "Requirement already satisfied: h5py>=2.9.0 in /Users/tonypham/opt/anaconda3/envs/Anaconda3/lib/python3.10/site-packages (from tensorflow) (3.7.0)\n",
      "Requirement already satisfied: typing-extensions>=3.6.6 in /Users/tonypham/opt/anaconda3/envs/Anaconda3/lib/python3.10/site-packages (from tensorflow) (4.4.0)\n",
      "Requirement already satisfied: google-pasta>=0.1.1 in /Users/tonypham/opt/anaconda3/envs/Anaconda3/lib/python3.10/site-packages (from tensorflow) (0.2.0)\n",
      "Collecting libclang>=13.0.0\n",
      "  Using cached libclang-15.0.6.1-py2.py3-none-macosx_10_9_x86_64.whl (25.0 MB)\n",
      "Collecting protobuf<3.20,>=3.9.2\n",
      "  Downloading protobuf-3.19.6-py2.py3-none-any.whl (162 kB)\n",
      "\u001b[2K     \u001b[90m━━━━━━━━━━━━━━━━━━━━━━━━━━━━━━━━━━━━━━━\u001b[0m \u001b[32m162.6/162.6 kB\u001b[0m \u001b[31m5.9 MB/s\u001b[0m eta \u001b[36m0:00:00\u001b[0m\n",
      "\u001b[?25hRequirement already satisfied: numpy>=1.20 in /Users/tonypham/opt/anaconda3/envs/Anaconda3/lib/python3.10/site-packages (from tensorflow) (1.23.5)\n",
      "Requirement already satisfied: packaging in /Users/tonypham/opt/anaconda3/envs/Anaconda3/lib/python3.10/site-packages (from tensorflow) (22.0)\n",
      "Requirement already satisfied: wheel<1.0,>=0.23.0 in /Users/tonypham/opt/anaconda3/envs/Anaconda3/lib/python3.10/site-packages (from astunparse>=1.6.0->tensorflow) (0.35.1)\n",
      "Requirement already satisfied: requests<3,>=2.21.0 in /Users/tonypham/opt/anaconda3/envs/Anaconda3/lib/python3.10/site-packages (from tensorboard<2.12,>=2.11->tensorflow) (2.28.1)\n",
      "Requirement already satisfied: google-auth<3,>=1.6.3 in /Users/tonypham/opt/anaconda3/envs/Anaconda3/lib/python3.10/site-packages (from tensorboard<2.12,>=2.11->tensorflow) (2.6.0)\n",
      "Requirement already satisfied: werkzeug>=1.0.1 in /Users/tonypham/opt/anaconda3/envs/Anaconda3/lib/python3.10/site-packages (from tensorboard<2.12,>=2.11->tensorflow) (2.2.2)\n",
      "Requirement already satisfied: tensorboard-plugin-wit>=1.6.0 in /Users/tonypham/opt/anaconda3/envs/Anaconda3/lib/python3.10/site-packages (from tensorboard<2.12,>=2.11->tensorflow) (1.6.0)\n",
      "Requirement already satisfied: markdown>=2.6.8 in /Users/tonypham/opt/anaconda3/envs/Anaconda3/lib/python3.10/site-packages (from tensorboard<2.12,>=2.11->tensorflow) (3.4.1)\n",
      "Requirement already satisfied: tensorboard-data-server<0.7.0,>=0.6.0 in /Users/tonypham/opt/anaconda3/envs/Anaconda3/lib/python3.10/site-packages (from tensorboard<2.12,>=2.11->tensorflow) (0.6.1)\n",
      "Requirement already satisfied: google-auth-oauthlib<0.5,>=0.4.1 in /Users/tonypham/opt/anaconda3/envs/Anaconda3/lib/python3.10/site-packages (from tensorboard<2.12,>=2.11->tensorflow) (0.4.4)\n",
      "Requirement already satisfied: pyasn1-modules>=0.2.1 in /Users/tonypham/opt/anaconda3/envs/Anaconda3/lib/python3.10/site-packages (from google-auth<3,>=1.6.3->tensorboard<2.12,>=2.11->tensorflow) (0.2.8)\n",
      "Requirement already satisfied: rsa<5,>=3.1.4 in /Users/tonypham/opt/anaconda3/envs/Anaconda3/lib/python3.10/site-packages (from google-auth<3,>=1.6.3->tensorboard<2.12,>=2.11->tensorflow) (4.7.2)\n",
      "Requirement already satisfied: cachetools<6.0,>=2.0.0 in /Users/tonypham/opt/anaconda3/envs/Anaconda3/lib/python3.10/site-packages (from google-auth<3,>=1.6.3->tensorboard<2.12,>=2.11->tensorflow) (4.2.2)\n",
      "Requirement already satisfied: requests-oauthlib>=0.7.0 in /Users/tonypham/opt/anaconda3/envs/Anaconda3/lib/python3.10/site-packages (from google-auth-oauthlib<0.5,>=0.4.1->tensorboard<2.12,>=2.11->tensorflow) (1.3.0)\n",
      "Requirement already satisfied: certifi>=2017.4.17 in /Users/tonypham/opt/anaconda3/envs/Anaconda3/lib/python3.10/site-packages (from requests<3,>=2.21.0->tensorboard<2.12,>=2.11->tensorflow) (2022.12.7)\n",
      "Requirement already satisfied: idna<4,>=2.5 in /Users/tonypham/opt/anaconda3/envs/Anaconda3/lib/python3.10/site-packages (from requests<3,>=2.21.0->tensorboard<2.12,>=2.11->tensorflow) (3.4)\n",
      "Requirement already satisfied: charset-normalizer<3,>=2 in /Users/tonypham/opt/anaconda3/envs/Anaconda3/lib/python3.10/site-packages (from requests<3,>=2.21.0->tensorboard<2.12,>=2.11->tensorflow) (2.0.4)\n",
      "Requirement already satisfied: urllib3<1.27,>=1.21.1 in /Users/tonypham/opt/anaconda3/envs/Anaconda3/lib/python3.10/site-packages (from requests<3,>=2.21.0->tensorboard<2.12,>=2.11->tensorflow) (1.26.13)\n",
      "Requirement already satisfied: MarkupSafe>=2.1.1 in /Users/tonypham/opt/anaconda3/envs/Anaconda3/lib/python3.10/site-packages (from werkzeug>=1.0.1->tensorboard<2.12,>=2.11->tensorflow) (2.1.1)\n",
      "Requirement already satisfied: pyasn1<0.5.0,>=0.4.6 in /Users/tonypham/opt/anaconda3/envs/Anaconda3/lib/python3.10/site-packages (from pyasn1-modules>=0.2.1->google-auth<3,>=1.6.3->tensorboard<2.12,>=2.11->tensorflow) (0.4.8)\n",
      "Requirement already satisfied: oauthlib>=3.0.0 in /Users/tonypham/opt/anaconda3/envs/Anaconda3/lib/python3.10/site-packages (from requests-oauthlib>=0.7.0->google-auth-oauthlib<0.5,>=0.4.1->tensorboard<2.12,>=2.11->tensorflow) (3.2.1)\n",
      "Installing collected packages: libclang, tensorflow-io-gcs-filesystem, tensorflow-estimator, protobuf, keras, tensorboard, tensorflow\n",
      "  Attempting uninstall: tensorflow-estimator\n",
      "    Found existing installation: tensorflow-estimator 2.10.0\n",
      "    Uninstalling tensorflow-estimator-2.10.0:\n",
      "      Successfully uninstalled tensorflow-estimator-2.10.0\n",
      "  Attempting uninstall: protobuf\n",
      "    Found existing installation: protobuf 3.20.1\n",
      "    Uninstalling protobuf-3.20.1:\n",
      "      Successfully uninstalled protobuf-3.20.1\n",
      "  Attempting uninstall: keras\n",
      "    Found existing installation: keras 2.10.0\n",
      "    Uninstalling keras-2.10.0:\n",
      "      Successfully uninstalled keras-2.10.0\n",
      "  Attempting uninstall: tensorboard\n",
      "    Found existing installation: tensorboard 2.10.0\n",
      "    Uninstalling tensorboard-2.10.0:\n",
      "      Successfully uninstalled tensorboard-2.10.0\n",
      "  Attempting uninstall: tensorflow\n",
      "    Found existing installation: tensorflow 2.10.0\n",
      "    Uninstalling tensorflow-2.10.0:\n",
      "      Successfully uninstalled tensorflow-2.10.0\n",
      "Successfully installed keras-2.11.0 libclang-15.0.6.1 protobuf-3.19.6 tensorboard-2.11.2 tensorflow-2.11.0 tensorflow-estimator-2.11.0 tensorflow-io-gcs-filesystem-0.30.0\n",
      "Note: you may need to restart the kernel to use updated packages.\n"
     ]
    }
   ],
   "source": [
    "pip install --upgrade tensorflow"
   ]
  },
  {
   "cell_type": "code",
   "execution_count": null,
   "metadata": {},
   "outputs": [],
   "source": [
    "import matplotlib.pyplot as plt"
   ]
  },
  {
   "cell_type": "markdown",
   "metadata": {},
   "source": [
    "## Biểu đồ đường"
   ]
  },
  {
   "cell_type": "markdown",
   "metadata": {},
   "source": [
    "Dữ liệu lợi nhuận của một công ty"
   ]
  },
  {
   "cell_type": "code",
   "execution_count": null,
   "metadata": {},
   "outputs": [],
   "source": [
    "months = [\"Jul\", \"Aug\", \"Sep\", \"Oct\", \"Nov\", \"Dec\"]\n",
    "profits = [2.0, 2.1, 2.2, 2.1, 2.3, 2.4] # millions"
   ]
  },
  {
   "cell_type": "markdown",
   "metadata": {},
   "source": [
    "Vẽ **biểu đồ đường** (line chart) mô tả tăng trưởng lợi nhuận bằng hàm [`plot`](https://matplotlib.org/stable/api/_as_gen/matplotlib.pyplot.plot.html)"
   ]
  },
  {
   "cell_type": "code",
   "execution_count": null,
   "metadata": {},
   "outputs": [],
   "source": [
    "plt.plot(months, profits)\n",
    "plt.show()"
   ]
  },
  {
   "cell_type": "markdown",
   "metadata": {},
   "source": [
    "Thiết lập chi tiết các giá trị của biểu đồ (tham khảo [Pyplot tutorial](https://matplotlib.org/stable/tutorials/introductory/pyplot.html))"
   ]
  },
  {
   "cell_type": "code",
   "execution_count": null,
   "metadata": {},
   "outputs": [],
   "source": [
    "plt.plot(months, profits, marker=\"s\", linewidth=2)\n",
    "\n",
    "plt.title(\"Company Profit per Month\")\n",
    "plt.xlabel(\"Month\")\n",
    "plt.ylabel(\"Profit (millions of dollars)\")\n",
    "plt.ylim(2, 2.5)\n",
    "\n",
    "#plt.savefig('line_chart.pdf') \n",
    "plt.show()"
   ]
  },
  {
   "cell_type": "code",
   "execution_count": null,
   "metadata": {},
   "outputs": [],
   "source": []
  },
  {
   "cell_type": "markdown",
   "metadata": {},
   "source": [
    "Nếu muốn thể hiện bản thân lợi nhuận (cùng với tăng trưởng) thì nên vẽ biểu đồ sau"
   ]
  },
  {
   "cell_type": "code",
   "execution_count": null,
   "metadata": {},
   "outputs": [],
   "source": [
    "plt.plot(months, profits, marker=\"s\", linewidth=2, color = \"red\")\n",
    "\n",
    "plt.title(\"Company Profit per Month\")\n",
    "plt.xlabel(\"Month\")\n",
    "plt.ylabel(\"Profit (millions of dollars)\")\n",
    "plt.ylim(0, 2.5)\n",
    "plt.grid()\n",
    "\n",
    "#plt.savefig('line_chart2.pdf')\n",
    "plt.show()"
   ]
  },
  {
   "cell_type": "markdown",
   "metadata": {},
   "source": [
    "*Chọn đúng loại biểu đồ!*"
   ]
  },
  {
   "cell_type": "markdown",
   "metadata": {},
   "source": [
    "## Biểu đồ quạt"
   ]
  },
  {
   "cell_type": "markdown",
   "metadata": {},
   "source": [
    "Dữ liệu doanh số mỗi thể loại game"
   ]
  },
  {
   "cell_type": "code",
   "execution_count": null,
   "metadata": {},
   "outputs": [],
   "source": [
    "genres = [\"Sports\", \"Strategy\", \"Action\", \"Shooter\", \"Other\"]\n",
    "units_solds = [27_500, 11_500, 6_000, 3_500, 1_500] # unit"
   ]
  },
  {
   "cell_type": "markdown",
   "metadata": {},
   "source": [
    "Vẽ **biểu đồ quạt** (pie chart) bằng hàm [`pie`](https://matplotlib.org/stable/api/_as_gen/matplotlib.pyplot.pie.html)"
   ]
  },
  {
   "cell_type": "code",
   "execution_count": null,
   "metadata": {},
   "outputs": [],
   "source": [
    "plt.pie(units_solds, labels=genres)\n",
    "plt.show()"
   ]
  },
  {
   "cell_type": "markdown",
   "metadata": {},
   "source": [
    "Các thiết lập chi tiết (tham khảo [Basic pie chart](https://matplotlib.org/stable/gallery/pie_and_polar_charts/pie_features.html))"
   ]
  },
  {
   "cell_type": "code",
   "execution_count": null,
   "metadata": {},
   "outputs": [],
   "source": [
    "def group_value(pct):\n",
    "    return \"{0:,}\".format(int(round(pct/100, 2) * sum(units_solds)))\n",
    "\n",
    "plt.pie(units_solds, labels=genres, startangle=90, counterclock=False, \n",
    "        autopct=group_value, pctdistance=1.2, labeldistance=1.4)\n",
    "\n",
    "plt.title(\"Units Sold per Genre\", y=-0.1)\n",
    "\n",
    "#plt.savefig('pie_chart.pdf')\n",
    "plt.show()"
   ]
  },
  {
   "cell_type": "markdown",
   "metadata": {},
   "source": [
    "Biểu đồ quạt thể hiện tỉ lệ"
   ]
  },
  {
   "cell_type": "code",
   "execution_count": null,
   "metadata": {},
   "outputs": [],
   "source": [
    "plt.pie(units_solds, labels=genres, startangle=90, counterclock=False, \n",
    "        autopct=\"%.0f%%\", pctdistance=1.2, labeldistance=1.4)\n",
    "\n",
    "plt.title(\"Units Sold per Genre\", y=-0.1)\n",
    "\n",
    "#plt.savefig('pie_chart2.pdf')\n",
    "plt.show()"
   ]
  },
  {
   "cell_type": "markdown",
   "metadata": {},
   "source": [
    "## Biểu đồ thanh"
   ]
  },
  {
   "cell_type": "markdown",
   "metadata": {},
   "source": [
    "### Biểu đồ thanh đứng"
   ]
  },
  {
   "cell_type": "markdown",
   "metadata": {},
   "source": [
    "Dữ liệu doanh số mỗi vùng"
   ]
  },
  {
   "cell_type": "code",
   "execution_count": null,
   "metadata": {},
   "outputs": [],
   "source": [
    "regions = [\"A\", \"B\", \"C\", \"D\", \"E\"]\n",
    "sales = [1_000, 5_000, 7_500, 8_000, 9_500]"
   ]
  },
  {
   "cell_type": "markdown",
   "metadata": {},
   "source": [
    "Vẽ **biểu đồ thanh** (bar chart) bằng hàm [`bar`](https://matplotlib.org/stable/api/_as_gen/matplotlib.pyplot.bar.html)"
   ]
  },
  {
   "cell_type": "code",
   "execution_count": null,
   "metadata": {},
   "outputs": [],
   "source": [
    "plt.bar(regions, sales)\n",
    "plt.show()"
   ]
  },
  {
   "cell_type": "markdown",
   "metadata": {},
   "source": [
    "Các thiết lập chi tiết"
   ]
  },
  {
   "cell_type": "code",
   "execution_count": null,
   "metadata": {},
   "outputs": [],
   "source": [
    "plt.bar(regions, sales, width=0.5, label=\"Sales (units)\")\n",
    "\n",
    "plt.title(\"Sales per Region in Units\", y=-0.2)\n",
    "plt.ylabel(\"Sales (units)\")\n",
    "plt.yticks([1000*i for i in range(11)])\n",
    "plt.legend()\n",
    "\n",
    "#plt.savefig('bar_chart.pdf')\n",
    "plt.show()"
   ]
  },
  {
   "cell_type": "markdown",
   "metadata": {},
   "source": [
    "### Biểu đồ thanh ngang"
   ]
  },
  {
   "cell_type": "markdown",
   "metadata": {},
   "source": [
    "Dữ liệu **tỉ lệ** (proportion, percentage) thỏa mãn mỗi thể loại game"
   ]
  },
  {
   "cell_type": "code",
   "execution_count": null,
   "metadata": {},
   "outputs": [],
   "source": [
    "satisfied_props = [99, 90, 85, 95, 80] # %"
   ]
  },
  {
   "cell_type": "markdown",
   "metadata": {},
   "source": [
    "Vẽ **biểu đồ thanh ngang** (horizontal bar chart) bằng hàm [`barh`](https://matplotlib.org/stable/api/_as_gen/matplotlib.pyplot.barh.html)"
   ]
  },
  {
   "cell_type": "code",
   "execution_count": null,
   "metadata": {},
   "outputs": [],
   "source": [
    "y_pos = range(len(genres))\n",
    "\n",
    "plt.barh(y_pos, satisfied_props, height=0.5, label=\"Percent Satisfied\")\n",
    "\n",
    "plt.title(\"% Players Satisfied per Genre\")\n",
    "plt.xlabel(\"% Satisfied\")\n",
    "plt.xticks([10*i for i in range(11)])\n",
    "plt.yticks(range(len(genres)), genres)\n",
    "plt.gca().invert_yaxis()\n",
    "plt.legend()\n",
    "\n",
    "#plt.savefig('bar_chart2.pdf')\n",
    "plt.show()"
   ]
  },
  {
   "cell_type": "markdown",
   "metadata": {},
   "source": [
    "Số lượng hay **tần số** (frequency) game thủ thỏa mãn mỗi thể loại game"
   ]
  },
  {
   "cell_type": "code",
   "execution_count": null,
   "metadata": {},
   "outputs": [],
   "source": [
    "satisfied_nums = [int(prop/100 * sale) for prop, sale in zip(satisfied_props, units_solds)]\n",
    "satisfied_nums"
   ]
  },
  {
   "cell_type": "markdown",
   "metadata": {},
   "source": [
    "Vẽ biểu đồ thanh ngang cho tần số game thủ thỏa mãn mỗi thể loại game"
   ]
  },
  {
   "cell_type": "code",
   "execution_count": null,
   "metadata": {},
   "outputs": [],
   "source": [
    "y_pos = range(len(genres))\n",
    "\n",
    "plt.barh(y_pos, satisfied_nums, height=0.5, label=\"Satisfied\")\n",
    "\n",
    "plt.title(\"Number of Players Satisfied per Genre\")\n",
    "plt.xlabel(\"Number Satisfied\")\n",
    "plt.xticks([5000*i for i in range(7)])\n",
    "plt.yticks(range(len(genres)), genres)\n",
    "plt.gca().invert_yaxis()\n",
    "plt.legend()\n",
    "\n",
    "#plt.savefig('bar_chart3.pdf')\n",
    "plt.show()"
   ]
  },
  {
   "cell_type": "markdown",
   "metadata": {},
   "source": [
    "### Biểu đồ thanh gom nhóm"
   ]
  },
  {
   "cell_type": "markdown",
   "metadata": {},
   "source": [
    "Tần số game thủ không thỏa mãn mỗi thể loại game"
   ]
  },
  {
   "cell_type": "code",
   "execution_count": null,
   "metadata": {},
   "outputs": [],
   "source": [
    "dissatisfied_nums = [sale - sat_num for sale, sat_num in zip(units_solds, satisfied_nums)]\n",
    "dissatisfied_nums"
   ]
  },
  {
   "cell_type": "code",
   "execution_count": null,
   "metadata": {},
   "outputs": [],
   "source": [
    "y_pos = range(len(genres))\n",
    "\n",
    "plt.barh(y_pos, dissatisfied_nums, height=0.5, label=\"Dissatisfied\")\n",
    "plt.barh(y_pos, satisfied_nums, height=0.5, label=\"Satisfied\")\n",
    "\n",
    "plt.title(\"Number of Players Satisfied per Genre\")\n",
    "plt.xlabel(\"Number Satisfied\")\n",
    "plt.xticks([5000*i for i in range(7)])\n",
    "plt.yticks(range(len(genres)), genres)\n",
    "plt.gca().invert_yaxis()\n",
    "plt.legend()\n",
    "\n",
    "plt.show()"
   ]
  },
  {
   "cell_type": "markdown",
   "metadata": {},
   "source": [
    "Vẽ **biểu đồ thanh gom nhóm** (grouped bar chart, split-category bar chart) cho tần số game thủ thỏa mãn và không thỏa mãn mỗi thể loại game"
   ]
  },
  {
   "cell_type": "code",
   "execution_count": null,
   "metadata": {},
   "outputs": [],
   "source": [
    "height = 0.4\n",
    "y_pos = range(len(genres))\n",
    "y_pos1 = [y - height/2 for y in y_pos]\n",
    "y_pos2 = [y + height/2 for y in y_pos]\n",
    "\n",
    "plt.barh(y_pos1, satisfied_nums, height=height, label=\"Satisfied\")\n",
    "plt.barh(y_pos2, dissatisfied_nums, height=height, label=\"Dissatisfied\")\n",
    "\n",
    "plt.title(\"Players Satisfaction per Genre\")\n",
    "plt.xlabel(\"Frequency\")\n",
    "plt.xticks([5000*i for i in range(7)])\n",
    "plt.yticks(range(len(genres)), genres)\n",
    "plt.gca().invert_yaxis()\n",
    "plt.legend()\n",
    "\n",
    "#plt.savefig('bar_chart4.pdf')\n",
    "plt.show()"
   ]
  },
  {
   "cell_type": "markdown",
   "metadata": {},
   "source": [
    "### Biểu đồ thanh xếp chồng"
   ]
  },
  {
   "cell_type": "markdown",
   "metadata": {},
   "source": [
    "Vẽ **biểu đồ thanh xếp chồng** (stacked bar chart, segmented bar char) cho tần số và tỉ lệ game thủ thỏa mãn và không thỏa mãn mỗi thể loại game"
   ]
  },
  {
   "cell_type": "code",
   "execution_count": null,
   "metadata": {},
   "outputs": [],
   "source": [
    "y_pos = range(len(genres))\n",
    "\n",
    "plt.barh(y_pos, satisfied_nums, height=0.5, label=\"Satisfied\")\n",
    "plt.barh(y_pos, dissatisfied_nums, height=0.5, left=satisfied_nums, label=\"Dissatisfied\")\n",
    "\n",
    "plt.title(\"Players Satisfaction per Genre\")\n",
    "plt.xlabel(\"Frequency\")\n",
    "plt.xticks([5000*i for i in range(7)])\n",
    "plt.yticks(range(len(genres)), genres)\n",
    "plt.gca().invert_yaxis()\n",
    "plt.legend()\n",
    "\n",
    "#plt.savefig('bar_chart5.pdf')\n",
    "plt.show()"
   ]
  }
 ],
 "metadata": {
  "kernelspec": {
   "display_name": "Anaconda3",
   "language": "python",
   "name": "python3"
  },
  "language_info": {
   "codemirror_mode": {
    "name": "ipython",
    "version": 3
   },
   "file_extension": ".py",
   "mimetype": "text/x-python",
   "name": "python",
   "nbconvert_exporter": "python",
   "pygments_lexer": "ipython3",
   "version": "3.10.8"
  },
  "vscode": {
   "interpreter": {
    "hash": "240f023d94b4ff9081f1d4eabe665a0b3848dd35c5e6b3894d48a24ff221424b"
   }
  }
 },
 "nbformat": 4,
 "nbformat_minor": 4
}
