result = 0
for i in range(60):
    if i == 0:
        result+=2
    else:
        result*=2
